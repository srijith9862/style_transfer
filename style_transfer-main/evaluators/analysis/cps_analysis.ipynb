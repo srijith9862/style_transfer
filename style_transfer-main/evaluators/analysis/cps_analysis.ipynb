{
 "cells": [
  {
   "cell_type": "code",
   "execution_count": 3,
   "id": "e5016a43",
   "metadata": {},
   "outputs": [],
   "source": [
    "import os\n",
    "import pandas as pd"
   ]
  },
  {
   "cell_type": "code",
   "execution_count": 4,
   "id": "a9a646c5",
   "metadata": {},
   "outputs": [],
   "source": [
    "os.chdir('C:\\\\Users\\\\Suraj\\\\Desktop\\\\IIIT\\\\NLG\\\\Project\\\\CPSFiles')\n",
    "files_list = os.listdir('C:\\\\Users\\\\Suraj\\\\Desktop\\\\IIIT\\\\NLG\\\\Project\\\\CPSFiles')"
   ]
  },
  {
   "cell_type": "code",
   "execution_count": 5,
   "id": "5d1f7327",
   "metadata": {},
   "outputs": [
    {
     "name": "stdout",
     "output_type": "stream",
     "text": [
      "none-0.1\n",
      "cps-threshold_0.1-masktype_none-testsrc_generation_em.txt\n",
      "pad-0.1\n",
      "cps-threshold_0.1-masktype_pad-testsrc_generation_em.txt\n",
      "none-0.3\n",
      "cps-threshold_0.3-masktype_none-testsrc_generation_em.txt\n",
      "pad-0.3\n",
      "cps-threshold_0.3-masktype_pad-testsrc_generation_em.txt\n",
      "pad-0.3\n",
      "cps-threshold_0.3-masktype_pad-testsrc_testtgt.txt\n",
      "pad-0.5\n",
      "cps-threshold_0.5-masktype_pad-testsrc_generation_em.txt\n"
     ]
    }
   ],
   "source": [
    "for f in files_list:\n",
    "    xaxis_label = f.split('-')[2].split('_')[1] + '-' + f.split('-')[1].split('_')[1]\n",
    "    print(xaxis_label)\n",
    "    print(f)"
   ]
  },
  {
   "cell_type": "code",
   "execution_count": 6,
   "id": "acfb9d5d",
   "metadata": {},
   "outputs": [],
   "source": [
    "plot_data = {}\n",
    "for f in files_list:\n",
    "    xaxis_label = f.split('-')[2].split('_')[1] + '-' + f.split('-')[1].split('_')[1]\n",
    "    file_i = open(f,'r',encoding=\"utf8\")\n",
    "    data = file_i.read()\n",
    "    data_dict = eval(str(data))\n",
    "    #print(xaxis_label,':',data_dict['scores'])\n",
    "    plot_data[xaxis_label] = data_dict['scores']"
   ]
  },
  {
   "cell_type": "code",
   "execution_count": 7,
   "id": "8dc48f46",
   "metadata": {},
   "outputs": [
    {
     "data": {
      "text/plain": [
       "<AxesSubplot:title={'center':'Distribution of CPS Score by Experiment'}>"
      ]
     },
     "execution_count": 7,
     "metadata": {},
     "output_type": "execute_result"
    },
    {
     "data": {
      "image/png": "[encoded data removed]",
      "text/plain": [
       "<Figure size 1440x720 with 1 Axes>"
      ]
     },
     "metadata": {
      "needs_background": "light"
     },
     "output_type": "display_data"
    }
   ],
   "source": [
    "pd.DataFrame.from_dict(plot_data).plot.box(\n",
    "        title=\"Distribution of CPS Score by Experiment\", figsize=(20, 10)\n",
    "    )"
   ]
  },
  {
   "cell_type": "code",
   "execution_count": 8,
   "id": "0be11854",
   "metadata": {},
   "outputs": [
    {
     "name": "stdout",
     "output_type": "stream",
     "text": [
      "    count      mean       std      min       25%       50%       75%  max\n",
      "0  1416.0  0.870047  0.124019  0.23169  0.813565  0.902551  0.963489  1.0\n",
      "    count      mean       std      min       25%       50%       75%  max\n",
      "0  1416.0  0.870047  0.124019  0.23169  0.813565  0.902551  0.963489  1.0\n",
      "    count      mean       std      min       25%       50%       75%  max\n",
      "0  1416.0  0.870047  0.124019  0.23169  0.813565  0.902551  0.963489  1.0\n",
      "    count      mean       std      min       25%       50%       75%  max\n",
      "0  1416.0  0.870047  0.124019  0.23169  0.813565  0.902551  0.963489  1.0\n",
      "    count      mean       std       min       25%       50%       75%  \\\n",
      "0  1416.0  0.631554  0.137035  0.035034  0.550053  0.650069  0.728369   \n",
      "\n",
      "        max  \n",
      "0  0.923254  \n",
      "    count      mean       std      min       25%       50%       75%  max\n",
      "0  1416.0  0.870047  0.124019  0.23169  0.813565  0.902551  0.963489  1.0\n"
     ]
    }
   ],
   "source": [
    "plot_data2 = pd.DataFrame()\n",
    "\n",
    "for f in files_list:\n",
    "    file_i = open(f,'r',encoding=\"utf8\")\n",
    "    data = file_i.read()\n",
    "    data_dict = eval(str(data))\n",
    "    data_desc = pd.DataFrame(data_dict['scores']).describe().T\n",
    "    print(data_desc)\n",
    "    data_desc['mask_type'] = f.split('-')[2].split('_')[1]\n",
    "    data_desc['threshold'] = f.split('-')[1].split('_')[1]\n",
    "    data_desc_i = data_desc[[\"mask_type\", \"threshold\",\"mean\", \"50%\"]]\n",
    "    #print(data_desc_i)\n",
    "    plot_data2 = plot_data2.append(data_desc_i, ignore_index = True)"
   ]
  },
  {
   "cell_type": "code",
   "execution_count": 115,
   "id": "5e199b6d",
   "metadata": {},
   "outputs": [
    {
     "data": {
      "text/html": [
       "<div>\n",
       "<style scoped>\n",
       "    .dataframe tbody tr th:only-of-type {\n",
       "        vertical-align: middle;\n",
       "    }\n",
       "\n",
       "    .dataframe tbody tr th {\n",
       "        vertical-align: top;\n",
       "    }\n",
       "\n",
       "    .dataframe thead th {\n",
       "        text-align: right;\n",
       "    }\n",
       "</style>\n",
       "<table border=\"1\" class=\"dataframe\">\n",
       "  <thead>\n",
       "    <tr style=\"text-align: right;\">\n",
       "      <th></th>\n",
       "      <th>mask_type</th>\n",
       "      <th>threshold</th>\n",
       "      <th>mean</th>\n",
       "      <th>50%</th>\n",
       "    </tr>\n",
       "  </thead>\n",
       "  <tbody>\n",
       "    <tr>\n",
       "      <th>0</th>\n",
       "      <td>none</td>\n",
       "      <td>0.1</td>\n",
       "      <td>0.911511</td>\n",
       "      <td>0.949077</td>\n",
       "    </tr>\n",
       "    <tr>\n",
       "      <th>1</th>\n",
       "      <td>pad</td>\n",
       "      <td>0.1</td>\n",
       "      <td>0.858182</td>\n",
       "      <td>0.895749</td>\n",
       "    </tr>\n",
       "    <tr>\n",
       "      <th>2</th>\n",
       "      <td>remove</td>\n",
       "      <td>0.1</td>\n",
       "      <td>0.911511</td>\n",
       "      <td>0.949077</td>\n",
       "    </tr>\n",
       "    <tr>\n",
       "      <th>3</th>\n",
       "      <td>none</td>\n",
       "      <td>0.3</td>\n",
       "      <td>0.911511</td>\n",
       "      <td>0.949077</td>\n",
       "    </tr>\n",
       "    <tr>\n",
       "      <th>4</th>\n",
       "      <td>pad</td>\n",
       "      <td>0.3</td>\n",
       "      <td>0.911511</td>\n",
       "      <td>0.949077</td>\n",
       "    </tr>\n",
       "    <tr>\n",
       "      <th>5</th>\n",
       "      <td>remove</td>\n",
       "      <td>0.3</td>\n",
       "      <td>0.911511</td>\n",
       "      <td>0.949077</td>\n",
       "    </tr>\n",
       "  </tbody>\n",
       "</table>\n",
       "</div>"
      ],
      "text/plain": [
       "  mask_type threshold      mean       50%\n",
       "0      none       0.1  0.911511  0.949077\n",
       "1       pad       0.1  0.858182  0.895749\n",
       "2    remove       0.1  0.911511  0.949077\n",
       "3      none       0.3  0.911511  0.949077\n",
       "4       pad       0.3  0.911511  0.949077\n",
       "5    remove       0.3  0.911511  0.949077"
      ]
     },
     "execution_count": 115,
     "metadata": {},
     "output_type": "execute_result"
    }
   ],
   "source": [
    "plot_data2"
   ]
  },
  {
   "cell_type": "code",
   "execution_count": 29,
   "id": "2b5eb5e5",
   "metadata": {},
   "outputs": [],
   "source": [
    "def inspect_style_mask_results(result_df, nrows=10):\n",
    "    \"\"\"\n",
    "    Given a CPS Evaluation result_df, print out original and masked\n",
    "    versions of text for both source and target.\n",
    "    \"\"\"\n",
    "\n",
    "    for i, row in result_df[:nrows].iterrows():\n",
    "        print()\n",
    "        print(\"CPS_SCORE:\", row[\"scores\"])\n",
    "        print(\n",
    "            \"SOURCE_TEXT:\",\n",
    "            f\"\\n\\t {row['masked_input_text']}\",\n",
    "        )\n",
    "        print(\n",
    "            \"TARGET_TEXT:\",\n",
    "            f\"\\n\\t {row['masked_output_text']}\",\n",
    "        )\n",
    "        print(\"-------------------------------------------------\")"
   ]
  },
  {
   "cell_type": "code",
   "execution_count": 33,
   "id": "17993fd6",
   "metadata": {},
   "outputs": [
    {
     "data": {
      "text/html": [
       "<div>\n",
       "<style scoped>\n",
       "    .dataframe tbody tr th:only-of-type {\n",
       "        vertical-align: middle;\n",
       "    }\n",
       "\n",
       "    .dataframe tbody tr th {\n",
       "        vertical-align: top;\n",
       "    }\n",
       "\n",
       "    .dataframe thead th {\n",
       "        text-align: right;\n",
       "    }\n",
       "</style>\n",
       "<table border=\"1\" class=\"dataframe\">\n",
       "  <thead>\n",
       "    <tr style=\"text-align: right;\">\n",
       "      <th></th>\n",
       "      <th>scores</th>\n",
       "      <th>masked_input_text</th>\n",
       "      <th>masked_output_text</th>\n",
       "    </tr>\n",
       "  </thead>\n",
       "  <tbody>\n",
       "    <tr>\n",
       "      <th>0</th>\n",
       "      <td>0.982947</td>\n",
       "      <td>is any [PAD] really a freak.</td>\n",
       "      <td>is any [PAD] really a freak?</td>\n",
       "    </tr>\n",
       "    <tr>\n",
       "      <th>1</th>\n",
       "      <td>0.954678</td>\n",
       "      <td>aspen colorado has he best music festivals, yo...</td>\n",
       "      <td>aspen colorado has one of the best music festi...</td>\n",
       "    </tr>\n",
       "    <tr>\n",
       "      <th>2</th>\n",
       "      <td>1.000000</td>\n",
       "      <td>[PAD] can get almost anything on ebay!</td>\n",
       "      <td>[PAD] can get almost anything on ebay!</td>\n",
       "    </tr>\n",
       "    <tr>\n",
       "      <th>3</th>\n",
       "      <td>0.787280</td>\n",
       "      <td>everybody [PAD] dying to get in</td>\n",
       "      <td>everyone is [PAD] to get in.</td>\n",
       "    </tr>\n",
       "    <tr>\n",
       "      <th>4</th>\n",
       "      <td>0.939833</td>\n",
       "      <td>not idiots like 50 cent and his whole gay unit...</td>\n",
       "      <td>not idiots like 50 cent and his entire gay uni...</td>\n",
       "    </tr>\n",
       "    <tr>\n",
       "      <th>...</th>\n",
       "      <td>...</td>\n",
       "      <td>...</td>\n",
       "      <td>...</td>\n",
       "    </tr>\n",
       "    <tr>\n",
       "      <th>1411</th>\n",
       "      <td>0.317632</td>\n",
       "      <td>i lubb it. [PAD] [ 8 ] ill keep u my dirrty li...</td>\n",
       "      <td>i love it. i will keep you my little girl [PAD]</td>\n",
       "    </tr>\n",
       "    <tr>\n",
       "      <th>1412</th>\n",
       "      <td>0.949687</td>\n",
       "      <td>i guess it is the blond from [PAD] idol</td>\n",
       "      <td>i guess it is the blond from american idol [PAD]</td>\n",
       "    </tr>\n",
       "    <tr>\n",
       "      <th>1413</th>\n",
       "      <td>0.915923</td>\n",
       "      <td>( no offance ) [PAD] you can answer that then ...</td>\n",
       "      <td>if you can answer that, then it is the same fo...</td>\n",
       "    </tr>\n",
       "    <tr>\n",
       "      <th>1414</th>\n",
       "      <td>0.975332</td>\n",
       "      <td>the song was called epic, i [PAD]t remember th...</td>\n",
       "      <td>the song was called epic. i cannot remember th...</td>\n",
       "    </tr>\n",
       "    <tr>\n",
       "      <th>1415</th>\n",
       "      <td>0.924624</td>\n",
       "      <td>hey mar. [PAD]. that commercial is for dairy q...</td>\n",
       "      <td>hello mar, that commercial is for dairy queen....</td>\n",
       "    </tr>\n",
       "  </tbody>\n",
       "</table>\n",
       "<p>1416 rows × 3 columns</p>\n",
       "</div>"
      ],
      "text/plain": [
       "        scores                                  masked_input_text  \\\n",
       "0     0.982947                       is any [PAD] really a freak.   \n",
       "1     0.954678  aspen colorado has he best music festivals, yo...   \n",
       "2     1.000000             [PAD] can get almost anything on ebay!   \n",
       "3     0.787280                    everybody [PAD] dying to get in   \n",
       "4     0.939833  not idiots like 50 cent and his whole gay unit...   \n",
       "...        ...                                                ...   \n",
       "1411  0.317632  i lubb it. [PAD] [ 8 ] ill keep u my dirrty li...   \n",
       "1412  0.949687            i guess it is the blond from [PAD] idol   \n",
       "1413  0.915923  ( no offance ) [PAD] you can answer that then ...   \n",
       "1414  0.975332  the song was called epic, i [PAD]t remember th...   \n",
       "1415  0.924624  hey mar. [PAD]. that commercial is for dairy q...   \n",
       "\n",
       "                                     masked_output_text  \n",
       "0                          is any [PAD] really a freak?  \n",
       "1     aspen colorado has one of the best music festi...  \n",
       "2                [PAD] can get almost anything on ebay!  \n",
       "3                          everyone is [PAD] to get in.  \n",
       "4     not idiots like 50 cent and his entire gay uni...  \n",
       "...                                                 ...  \n",
       "1411    i love it. i will keep you my little girl [PAD]  \n",
       "1412   i guess it is the blond from american idol [PAD]  \n",
       "1413  if you can answer that, then it is the same fo...  \n",
       "1414  the song was called epic. i cannot remember th...  \n",
       "1415  hello mar, that commercial is for dairy queen....  \n",
       "\n",
       "[1416 rows x 3 columns]"
      ]
     },
     "execution_count": 33,
     "metadata": {},
     "output_type": "execute_result"
    }
   ],
   "source": [
    "f = \"cps-threshold_0.3-masktype_pad-testsrc_generation_em.txt\"\n",
    "file_i = open(f,'r',encoding=\"utf8\")\n",
    "data = file_i.read()\n",
    "data_dict = eval(str(data))\n",
    "df = pd.DataFrame.from_dict(data_dict)\n",
    "df"
   ]
  },
  {
   "cell_type": "code",
   "execution_count": 34,
   "id": "d36825c8",
   "metadata": {},
   "outputs": [
    {
     "name": "stdout",
     "output_type": "stream",
     "text": [
      "\n",
      "CPS_SCORE: 1.000000238418579\n",
      "SOURCE_TEXT: \n",
      "\t so the blonde went home, got on her hands and knees and started blowing on the tail pipe [PAD]\n",
      "TARGET_TEXT: \n",
      "\t so the blonde went home, got on her hands and knees and started blowing on the tail pipe [PAD]\n",
      "-------------------------------------------------\n",
      "\n",
      "CPS_SCORE: 1.000000238418579\n",
      "SOURCE_TEXT: \n",
      "\t do we really want them to get [PAD]?\n",
      "TARGET_TEXT: \n",
      "\t do we really want them to get [PAD]?\n",
      "-------------------------------------------------\n",
      "\n",
      "CPS_SCORE: 1.0000001192092896\n",
      "SOURCE_TEXT: \n",
      "\t i was once told that i looked like timothy hutton, but i was young then [PAD]\n",
      "TARGET_TEXT: \n",
      "\t i was once told that i looked like timothy hutton, but i was young then [PAD]\n",
      "-------------------------------------------------\n",
      "\n",
      "CPS_SCORE: 1.0000001192092896\n",
      "SOURCE_TEXT: \n",
      "\t what kind of [PAD] do you do?\n",
      "TARGET_TEXT: \n",
      "\t what kind of [PAD] do you do?\n",
      "-------------------------------------------------\n",
      "\n",
      "CPS_SCORE: 1.0000001192092896\n",
      "SOURCE_TEXT: \n",
      "\t i am not [PAD] liking billie that much.\n",
      "TARGET_TEXT: \n",
      "\t i am not [PAD] liking billie that much.\n",
      "-------------------------------------------------\n"
     ]
    }
   ],
   "source": [
    "import pandas as pd\n",
    "inspect_style_mask_results(df.sort_values(by=\"scores\", ascending=False), nrows=5)\n"
   ]
  },
  {
   "cell_type": "code",
   "execution_count": 35,
   "id": "0e2a7379",
   "metadata": {},
   "outputs": [
    {
     "name": "stdout",
     "output_type": "stream",
     "text": [
      "\n",
      "CPS_SCORE: 0.2316901981830597\n",
      "SOURCE_TEXT: \n",
      "\t i ask to peoples who gave answer for this question where is your jocks????!!! [PAD]\n",
      "TARGET_TEXT: \n",
      "\t i ask people who gave the [PAD] for this question.\n",
      "-------------------------------------------------\n",
      "\n",
      "CPS_SCORE: 0.2537332773208618\n",
      "SOURCE_TEXT: \n",
      "\t i found it and still do irresistible [PAD]!\n",
      "TARGET_TEXT: \n",
      "\t i [PAD] it and still do.\n",
      "-------------------------------------------------\n",
      "\n",
      "CPS_SCORE: 0.3173408508300781\n",
      "SOURCE_TEXT: \n",
      "\t hell to the no [PAD]. they are one of the best bands out there.\n",
      "TARGET_TEXT: \n",
      "\t yes, they are one of the best beds out there [PAD]\n",
      "-------------------------------------------------\n",
      "\n",
      "CPS_SCORE: 0.31763163208961487\n",
      "SOURCE_TEXT: \n",
      "\t i lubb it. [PAD] [ 8 ] ill keep u my dirrty little secret.. hha... shhh..... lmao\n",
      "TARGET_TEXT: \n",
      "\t i love it. i will keep you my little girl [PAD]\n",
      "-------------------------------------------------\n",
      "\n",
      "CPS_SCORE: 0.36134201288223267\n",
      "SOURCE_TEXT: \n",
      "\t stop being posers and get a [PAD]\n",
      "TARGET_TEXT: \n",
      "\t stop being [PAD]rs and get a life.\n",
      "-------------------------------------------------\n"
     ]
    }
   ],
   "source": [
    "import pandas as pd\n",
    "inspect_style_mask_results(df.sort_values(by=\"scores\", ascending=True), nrows=5)\n"
   ]
  }
 ],
 "metadata": {
  "kernelspec": {
   "display_name": "Python 3 (ipykernel)",
   "language": "python",
   "name": "python3"
  },
  "language_info": {
   "codemirror_mode": {
    "name": "ipython",
    "version": 3
   },
   "file_extension": ".py",
   "mimetype": "text/x-python",
   "name": "python",
   "nbconvert_exporter": "python",
   "pygments_lexer": "ipython3",
   "version": "3.9.7"
  }
 },
 "nbformat": 4,
 "nbformat_minor": 5
}
