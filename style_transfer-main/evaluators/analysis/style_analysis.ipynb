{
 "cells": [
  {
   "cell_type": "code",
   "execution_count": 1,
   "metadata": {
    "colab": {
     "base_uri": "https://localhost:8080/"
    },
    "id": "vsHyjLHsHpdh",
    "outputId": "0acb549b-2928-4fea-f2ca-fb3dbb206b24"
   },
   "outputs": [
    {
     "name": "stdout",
     "output_type": "stream",
     "text": [
      "Error: Failed to call git rev-parse --git-dir: exit status 128 \n",
      "Git LFS initialized.\n",
      "Cloning into 'Style-Transfer'...\n",
      "remote: Enumerating objects: 11, done.\u001b[K\n",
      "remote: Total 11 (delta 0), reused 0 (delta 0), pack-reused 11\u001b[K\n",
      "Unpacking objects: 100% (11/11), 1.62 KiB | 554.00 KiB/s, done.\n"
     ]
    }
   ],
   "source": [
    "!git lfs install\n",
    "!git clone https://huggingface.co/datasets/RUCAIBox/Style-Transfer\n",
    "!mv Style-Transfer/gyafc_em.tgz .\n",
    "!mv Style-Transfer/gyafc_fr.tgz .\n",
    "!tar -zxf gyafc_em.tgz\n",
    "!tar -zxf gyafc_fr.tgz"
   ]
  },
  {
   "cell_type": "code",
   "execution_count": 17,
   "metadata": {
    "colab": {
     "base_uri": "https://localhost:8080/"
    },
    "id": "xOrIB6qpIJZT",
    "outputId": "76836fbb-92bc-4aab-e375-0e00ed304b82"
   },
   "outputs": [
    {
     "name": "stdout",
     "output_type": "stream",
     "text": [
      "1416\n",
      "1416\n",
      "1416\n",
      "1416\n",
      "1416\n"
     ]
    }
   ],
   "source": [
    "import json\n",
    "with open('style_generation.json', 'r') as f:\n",
    "    data=json.load(f)\n",
    "\n",
    "dict_list = data[\"details\"]\n",
    "pred_scores=[]\n",
    "pred_labels = []\n",
    "for d in dict_list:\n",
    "  pred_scores.append(d[\"score\"])\n",
    "  if(d[\"label\"] == \"LABEL_0\"):\n",
    "    pred_labels.append(0)\n",
    "  else:\n",
    "    pred_labels.append(1)\n",
    "# pred_labels = [d[\"score\"] for d in dict_list]\n",
    "# pred_scores = [d[\"score\"] for d in dict_list]\n",
    "\n",
    "\n",
    "with open('style_gyafc_em_test_tgt.json', 'r') as f:\n",
    "    data=json.load(f)\n",
    "\n",
    "dict_list = data[\"details\"]\n",
    "scores=[]\n",
    "labels = []\n",
    "for d in dict_list:\n",
    "  scores.append(d[\"score\"])\n",
    "  if(d[\"label\"] == \"LABEL_0\"):\n",
    "    labels.append(0)\n",
    "  else:\n",
    "    labels.append(1)\n",
    "# scores = [d[\"score\"] for d in dict_list]\n",
    "\n",
    "with open('gyafc_em/test.src', 'r') as f:\n",
    "    inp = [line.strip() for line in f]\n",
    "\n",
    "with open('gyafc_em/test.tgt', 'r') as f:\n",
    "    out = [line.strip() for line in f]\n",
    "\n",
    "with open('generation_em.txt', 'r') as f:\n",
    "    pred = [line.strip() for line in f]\n",
    "\n",
    "print(len(inp))\n",
    "print(len(pred_labels))\n",
    "print(len(pred_scores))\n",
    "print(len(scores))\n",
    "print(len(labels)) "
   ]
  },
  {
   "cell_type": "code",
   "execution_count": 18,
   "metadata": {
    "colab": {
     "base_uri": "https://localhost:8080/",
     "height": 337
    },
    "id": "ozK3UK9e5ZDf",
    "outputId": "3147419b-9c76-4f1f-df8b-198c46a3d3a7"
   },
   "outputs": [
    {
     "data": {
      "text/html": [
       "\n",
       "  <div id=\"df-81deaad3-f8c7-4d77-bb95-3d1df3f94732\">\n",
       "    <div class=\"colab-df-container\">\n",
       "      <div>\n",
       "<style scoped>\n",
       "    .dataframe tbody tr th:only-of-type {\n",
       "        vertical-align: middle;\n",
       "    }\n",
       "\n",
       "    .dataframe tbody tr th {\n",
       "        vertical-align: top;\n",
       "    }\n",
       "\n",
       "    .dataframe thead th {\n",
       "        text-align: right;\n",
       "    }\n",
       "</style>\n",
       "<table border=\"1\" class=\"dataframe\">\n",
       "  <thead>\n",
       "    <tr style=\"text-align: right;\">\n",
       "      <th></th>\n",
       "      <th>sourcetext</th>\n",
       "      <th>targettext</th>\n",
       "      <th>predictedtext</th>\n",
       "      <th>true_label</th>\n",
       "      <th>pred_label</th>\n",
       "      <th>pred_score</th>\n",
       "      <th>num_tokens</th>\n",
       "    </tr>\n",
       "  </thead>\n",
       "  <tbody>\n",
       "    <tr>\n",
       "      <th>0</th>\n",
       "      <td>Is Any Baby Really A Freak.</td>\n",
       "      <td>['Is any baby really a freak.', 'Is any baby r...</td>\n",
       "      <td>Is any baby really a Freak?</td>\n",
       "      <td>0</td>\n",
       "      <td>0</td>\n",
       "      <td>0.984546</td>\n",
       "      <td>6</td>\n",
       "    </tr>\n",
       "    <tr>\n",
       "      <th>1</th>\n",
       "      <td>aspen colorado has he best music festivals, yo...</td>\n",
       "      <td>['Aspen Colorado has he best music festivals, ...</td>\n",
       "      <td>Aspen Colorado has one of the best music festi...</td>\n",
       "      <td>0</td>\n",
       "      <td>1</td>\n",
       "      <td>0.995043</td>\n",
       "      <td>20</td>\n",
       "    </tr>\n",
       "    <tr>\n",
       "      <th>2</th>\n",
       "      <td>You can get almost anything on ebay!</td>\n",
       "      <td>['You can get almost anything on ebay!', 'You ...</td>\n",
       "      <td>You can get almost anything on eBay!</td>\n",
       "      <td>1</td>\n",
       "      <td>1</td>\n",
       "      <td>0.935910</td>\n",
       "      <td>7</td>\n",
       "    </tr>\n",
       "    <tr>\n",
       "      <th>3</th>\n",
       "      <td>everybody is Dying to get in</td>\n",
       "      <td>['everybody is dying to get in.', 'Everyone is...</td>\n",
       "      <td>Everyone is dying to get in.</td>\n",
       "      <td>1</td>\n",
       "      <td>1</td>\n",
       "      <td>0.904629</td>\n",
       "      <td>6</td>\n",
       "    </tr>\n",
       "    <tr>\n",
       "      <th>4</th>\n",
       "      <td>not idiots like 50 cent and his whole Gay unit...</td>\n",
       "      <td>[\"I'm not referring to people like 50 cent and...</td>\n",
       "      <td>Not idiots like 50 Cent and his entire Gay uni...</td>\n",
       "      <td>1</td>\n",
       "      <td>1</td>\n",
       "      <td>0.977824</td>\n",
       "      <td>18</td>\n",
       "    </tr>\n",
       "  </tbody>\n",
       "</table>\n",
       "</div>\n",
       "      <button class=\"colab-df-convert\" onclick=\"convertToInteractive('df-81deaad3-f8c7-4d77-bb95-3d1df3f94732')\"\n",
       "              title=\"Convert this dataframe to an interactive table.\"\n",
       "              style=\"display:none;\">\n",
       "        \n",
       "  <svg xmlns=\"http://www.w3.org/2000/svg\" height=\"24px\"viewBox=\"0 0 24 24\"\n",
       "       width=\"24px\">\n",
       "    <path d=\"M0 0h24v24H0V0z\" fill=\"none\"/>\n",
       "    <path d=\"M18.56 5.44l.94 2.06.94-2.06 2.06-.94-2.06-.94-.94-2.06-.94 2.06-2.06.94zm-11 1L8.5 8.5l.94-2.06 2.06-.94-2.06-.94L8.5 2.5l-.94 2.06-2.06.94zm10 10l.94 2.06.94-2.06 2.06-.94-2.06-.94-.94-2.06-.94 2.06-2.06.94z\"/><path d=\"M17.41 7.96l-1.37-1.37c-.4-.4-.92-.59-1.43-.59-.52 0-1.04.2-1.43.59L10.3 9.45l-7.72 7.72c-.78.78-.78 2.05 0 2.83L4 21.41c.39.39.9.59 1.41.59.51 0 1.02-.2 1.41-.59l7.78-7.78 2.81-2.81c.8-.78.8-2.07 0-2.86zM5.41 20L4 18.59l7.72-7.72 1.47 1.35L5.41 20z\"/>\n",
       "  </svg>\n",
       "      </button>\n",
       "      \n",
       "  <style>\n",
       "    .colab-df-container {\n",
       "      display:flex;\n",
       "      flex-wrap:wrap;\n",
       "      gap: 12px;\n",
       "    }\n",
       "\n",
       "    .colab-df-convert {\n",
       "      background-color: #E8F0FE;\n",
       "      border: none;\n",
       "      border-radius: 50%;\n",
       "      cursor: pointer;\n",
       "      display: none;\n",
       "      fill: #1967D2;\n",
       "      height: 32px;\n",
       "      padding: 0 0 0 0;\n",
       "      width: 32px;\n",
       "    }\n",
       "\n",
       "    .colab-df-convert:hover {\n",
       "      background-color: #E2EBFA;\n",
       "      box-shadow: 0px 1px 2px rgba(60, 64, 67, 0.3), 0px 1px 3px 1px rgba(60, 64, 67, 0.15);\n",
       "      fill: #174EA6;\n",
       "    }\n",
       "\n",
       "    [theme=dark] .colab-df-convert {\n",
       "      background-color: #3B4455;\n",
       "      fill: #D2E3FC;\n",
       "    }\n",
       "\n",
       "    [theme=dark] .colab-df-convert:hover {\n",
       "      background-color: #434B5C;\n",
       "      box-shadow: 0px 1px 3px 1px rgba(0, 0, 0, 0.15);\n",
       "      filter: drop-shadow(0px 1px 2px rgba(0, 0, 0, 0.3));\n",
       "      fill: #FFFFFF;\n",
       "    }\n",
       "  </style>\n",
       "\n",
       "      <script>\n",
       "        const buttonEl =\n",
       "          document.querySelector('#df-81deaad3-f8c7-4d77-bb95-3d1df3f94732 button.colab-df-convert');\n",
       "        buttonEl.style.display =\n",
       "          google.colab.kernel.accessAllowed ? 'block' : 'none';\n",
       "\n",
       "        async function convertToInteractive(key) {\n",
       "          const element = document.querySelector('#df-81deaad3-f8c7-4d77-bb95-3d1df3f94732');\n",
       "          const dataTable =\n",
       "            await google.colab.kernel.invokeFunction('convertToInteractive',\n",
       "                                                     [key], {});\n",
       "          if (!dataTable) return;\n",
       "\n",
       "          const docLinkHtml = 'Like what you see? Visit the ' +\n",
       "            '<a target=\"_blank\" href=https://colab.research.google.com/notebooks/data_table.ipynb>data table notebook</a>'\n",
       "            + ' to learn more about interactive tables.';\n",
       "          element.innerHTML = '';\n",
       "          dataTable['output_type'] = 'display_data';\n",
       "          await google.colab.output.renderOutput(dataTable, element);\n",
       "          const docLink = document.createElement('div');\n",
       "          docLink.innerHTML = docLinkHtml;\n",
       "          element.appendChild(docLink);\n",
       "        }\n",
       "      </script>\n",
       "    </div>\n",
       "  </div>\n",
       "  "
      ],
      "text/plain": [
       "                                          sourcetext  \\\n",
       "0                        Is Any Baby Really A Freak.   \n",
       "1  aspen colorado has he best music festivals, yo...   \n",
       "2               You can get almost anything on ebay!   \n",
       "3                       everybody is Dying to get in   \n",
       "4  not idiots like 50 cent and his whole Gay unit...   \n",
       "\n",
       "                                          targettext  \\\n",
       "0  ['Is any baby really a freak.', 'Is any baby r...   \n",
       "1  ['Aspen Colorado has he best music festivals, ...   \n",
       "2  ['You can get almost anything on ebay!', 'You ...   \n",
       "3  ['everybody is dying to get in.', 'Everyone is...   \n",
       "4  [\"I'm not referring to people like 50 cent and...   \n",
       "\n",
       "                                       predictedtext  true_label  pred_label  \\\n",
       "0                        Is any baby really a Freak?           0           0   \n",
       "1  Aspen Colorado has one of the best music festi...           0           1   \n",
       "2               You can get almost anything on eBay!           1           1   \n",
       "3                       Everyone is dying to get in.           1           1   \n",
       "4  Not idiots like 50 Cent and his entire Gay uni...           1           1   \n",
       "\n",
       "   pred_score  num_tokens  \n",
       "0    0.984546           6  \n",
       "1    0.995043          20  \n",
       "2    0.935910           7  \n",
       "3    0.904629           6  \n",
       "4    0.977824          18  "
      ]
     },
     "execution_count": 18,
     "metadata": {},
     "output_type": "execute_result"
    }
   ],
   "source": [
    "import pandas as pd\n",
    "df = pd.DataFrame({'sourcetext': inp,'targettext': out,'predictedtext':pred, 'true_label': labels, 'pred_label': pred_labels, 'pred_score': pred_scores})\n",
    "df[\"num_tokens\"] = df.apply(\n",
    "    lambda x: len(x[\"sourcetext\"].split(\" \")), axis=1\n",
    ")\n",
    "df.head()"
   ]
  },
  {
   "cell_type": "code",
   "execution_count": 7,
   "metadata": {
    "colab": {
     "base_uri": "https://localhost:8080/"
    },
    "id": "hzo8pXJWhxYg",
    "outputId": "c71c3cbb-e497-4553-de87-0f47747a96e7"
   },
   "outputs": [
    {
     "name": "stdout",
     "output_type": "stream",
     "text": [
      "dict length: 1332\n",
      "1332\n",
      "1332\n",
      "1332\n",
      "1332\n",
      "1332\n"
     ]
    }
   ],
   "source": [
    "import json\n",
    "with open('style_generation_fr.json', 'r') as f:\n",
    "    data=json.load(f)\n",
    "\n",
    "dict_list = data[\"details\"]\n",
    "pred_scores_fr=[]\n",
    "pred_labels_fr = []\n",
    "for d in dict_list:\n",
    "  pred_scores_fr.append(d[\"score\"])\n",
    "  if(d[\"label\"] == \"LABEL_0\"):\n",
    "    pred_labels_fr.append(0)\n",
    "  else:\n",
    "    pred_labels_fr.append(1)\n",
    "# pred_labels = [d[\"score\"] for d in dict_list]\n",
    "# pred_scores = [d[\"score\"] for d in dict_list]\n",
    "\n",
    "\n",
    "with open('style_gyafc_fr_test_tgt.json', 'r') as f:\n",
    "    data=json.load(f)\n",
    "\n",
    "dict_list = data[\"details\"]\n",
    "print('dict length:', len(dict_list))\n",
    "scores_fr=[]\n",
    "labels_fr = []\n",
    "for d in dict_list:\n",
    "  scores_fr.append(d[\"score\"])\n",
    "  if(d[\"label\"] == \"LABEL_0\"):\n",
    "    labels_fr.append(0)\n",
    "  else:\n",
    "    labels_fr.append(1)\n",
    "# scores = [d[\"score\"] for d in dict_list]\n",
    "\n",
    "with open('gyafc_fr/test.src', 'r') as f:\n",
    "    inp = [line.strip() for line in f]\n",
    "\n",
    "print(len(inp))\n",
    "print(len(pred_labels_fr))\n",
    "print(len(pred_scores_fr))\n",
    "print(len(scores_fr))\n",
    "print(len(labels_fr)) "
   ]
  },
  {
   "cell_type": "code",
   "execution_count": 9,
   "metadata": {
    "colab": {
     "base_uri": "https://localhost:8080/",
     "height": 206
    },
    "id": "QFIKBzvZiFBH",
    "outputId": "210e8b06-9be6-4244-f22d-04a948d0e524"
   },
   "outputs": [
    {
     "data": {
      "text/html": [
       "\n",
       "  <div id=\"df-e13765ae-6ff0-4c80-8592-a9c914d806ee\">\n",
       "    <div class=\"colab-df-container\">\n",
       "      <div>\n",
       "<style scoped>\n",
       "    .dataframe tbody tr th:only-of-type {\n",
       "        vertical-align: middle;\n",
       "    }\n",
       "\n",
       "    .dataframe tbody tr th {\n",
       "        vertical-align: top;\n",
       "    }\n",
       "\n",
       "    .dataframe thead th {\n",
       "        text-align: right;\n",
       "    }\n",
       "</style>\n",
       "<table border=\"1\" class=\"dataframe\">\n",
       "  <thead>\n",
       "    <tr style=\"text-align: right;\">\n",
       "      <th></th>\n",
       "      <th>text</th>\n",
       "      <th>true_label</th>\n",
       "      <th>pred_label</th>\n",
       "      <th>pred_score</th>\n",
       "      <th>num_tokens</th>\n",
       "    </tr>\n",
       "  </thead>\n",
       "  <tbody>\n",
       "    <tr>\n",
       "      <th>0</th>\n",
       "      <td>And so what if it is a rebound relationship fo...</td>\n",
       "      <td>1</td>\n",
       "      <td>1</td>\n",
       "      <td>0.920801</td>\n",
       "      <td>13</td>\n",
       "    </tr>\n",
       "    <tr>\n",
       "      <th>1</th>\n",
       "      <td>Good luck in your search for the one!</td>\n",
       "      <td>1</td>\n",
       "      <td>1</td>\n",
       "      <td>0.979168</td>\n",
       "      <td>8</td>\n",
       "    </tr>\n",
       "    <tr>\n",
       "      <th>2</th>\n",
       "      <td>WHY DOES EVERYONE SEEM TO WANT SOMEONE THAT TH...</td>\n",
       "      <td>1</td>\n",
       "      <td>1</td>\n",
       "      <td>0.985934</td>\n",
       "      <td>17</td>\n",
       "    </tr>\n",
       "    <tr>\n",
       "      <th>3</th>\n",
       "      <td>Do you like to argue and fight???</td>\n",
       "      <td>1</td>\n",
       "      <td>1</td>\n",
       "      <td>0.905788</td>\n",
       "      <td>7</td>\n",
       "    </tr>\n",
       "    <tr>\n",
       "      <th>4</th>\n",
       "      <td>So if you're set on that, that's the way to go!!</td>\n",
       "      <td>1</td>\n",
       "      <td>1</td>\n",
       "      <td>0.979499</td>\n",
       "      <td>11</td>\n",
       "    </tr>\n",
       "  </tbody>\n",
       "</table>\n",
       "</div>\n",
       "      <button class=\"colab-df-convert\" onclick=\"convertToInteractive('df-e13765ae-6ff0-4c80-8592-a9c914d806ee')\"\n",
       "              title=\"Convert this dataframe to an interactive table.\"\n",
       "              style=\"display:none;\">\n",
       "        \n",
       "  <svg xmlns=\"http://www.w3.org/2000/svg\" height=\"24px\"viewBox=\"0 0 24 24\"\n",
       "       width=\"24px\">\n",
       "    <path d=\"M0 0h24v24H0V0z\" fill=\"none\"/>\n",
       "    <path d=\"M18.56 5.44l.94 2.06.94-2.06 2.06-.94-2.06-.94-.94-2.06-.94 2.06-2.06.94zm-11 1L8.5 8.5l.94-2.06 2.06-.94-2.06-.94L8.5 2.5l-.94 2.06-2.06.94zm10 10l.94 2.06.94-2.06 2.06-.94-2.06-.94-.94-2.06-.94 2.06-2.06.94z\"/><path d=\"M17.41 7.96l-1.37-1.37c-.4-.4-.92-.59-1.43-.59-.52 0-1.04.2-1.43.59L10.3 9.45l-7.72 7.72c-.78.78-.78 2.05 0 2.83L4 21.41c.39.39.9.59 1.41.59.51 0 1.02-.2 1.41-.59l7.78-7.78 2.81-2.81c.8-.78.8-2.07 0-2.86zM5.41 20L4 18.59l7.72-7.72 1.47 1.35L5.41 20z\"/>\n",
       "  </svg>\n",
       "      </button>\n",
       "      \n",
       "  <style>\n",
       "    .colab-df-container {\n",
       "      display:flex;\n",
       "      flex-wrap:wrap;\n",
       "      gap: 12px;\n",
       "    }\n",
       "\n",
       "    .colab-df-convert {\n",
       "      background-color: #E8F0FE;\n",
       "      border: none;\n",
       "      border-radius: 50%;\n",
       "      cursor: pointer;\n",
       "      display: none;\n",
       "      fill: #1967D2;\n",
       "      height: 32px;\n",
       "      padding: 0 0 0 0;\n",
       "      width: 32px;\n",
       "    }\n",
       "\n",
       "    .colab-df-convert:hover {\n",
       "      background-color: #E2EBFA;\n",
       "      box-shadow: 0px 1px 2px rgba(60, 64, 67, 0.3), 0px 1px 3px 1px rgba(60, 64, 67, 0.15);\n",
       "      fill: #174EA6;\n",
       "    }\n",
       "\n",
       "    [theme=dark] .colab-df-convert {\n",
       "      background-color: #3B4455;\n",
       "      fill: #D2E3FC;\n",
       "    }\n",
       "\n",
       "    [theme=dark] .colab-df-convert:hover {\n",
       "      background-color: #434B5C;\n",
       "      box-shadow: 0px 1px 3px 1px rgba(0, 0, 0, 0.15);\n",
       "      filter: drop-shadow(0px 1px 2px rgba(0, 0, 0, 0.3));\n",
       "      fill: #FFFFFF;\n",
       "    }\n",
       "  </style>\n",
       "\n",
       "      <script>\n",
       "        const buttonEl =\n",
       "          document.querySelector('#df-e13765ae-6ff0-4c80-8592-a9c914d806ee button.colab-df-convert');\n",
       "        buttonEl.style.display =\n",
       "          google.colab.kernel.accessAllowed ? 'block' : 'none';\n",
       "\n",
       "        async function convertToInteractive(key) {\n",
       "          const element = document.querySelector('#df-e13765ae-6ff0-4c80-8592-a9c914d806ee');\n",
       "          const dataTable =\n",
       "            await google.colab.kernel.invokeFunction('convertToInteractive',\n",
       "                                                     [key], {});\n",
       "          if (!dataTable) return;\n",
       "\n",
       "          const docLinkHtml = 'Like what you see? Visit the ' +\n",
       "            '<a target=\"_blank\" href=https://colab.research.google.com/notebooks/data_table.ipynb>data table notebook</a>'\n",
       "            + ' to learn more about interactive tables.';\n",
       "          element.innerHTML = '';\n",
       "          dataTable['output_type'] = 'display_data';\n",
       "          await google.colab.output.renderOutput(dataTable, element);\n",
       "          const docLink = document.createElement('div');\n",
       "          docLink.innerHTML = docLinkHtml;\n",
       "          element.appendChild(docLink);\n",
       "        }\n",
       "      </script>\n",
       "    </div>\n",
       "  </div>\n",
       "  "
      ],
      "text/plain": [
       "                                                text  true_label  pred_label  \\\n",
       "0  And so what if it is a rebound relationship fo...           1           1   \n",
       "1              Good luck in your search for the one!           1           1   \n",
       "2  WHY DOES EVERYONE SEEM TO WANT SOMEONE THAT TH...           1           1   \n",
       "3                  Do you like to argue and fight???           1           1   \n",
       "4   So if you're set on that, that's the way to go!!           1           1   \n",
       "\n",
       "   pred_score  num_tokens  \n",
       "0    0.920801          13  \n",
       "1    0.979168           8  \n",
       "2    0.985934          17  \n",
       "3    0.905788           7  \n",
       "4    0.979499          11  "
      ]
     },
     "execution_count": 9,
     "metadata": {},
     "output_type": "execute_result"
    }
   ],
   "source": [
    "import pandas as pd\n",
    "df_fr = pd.DataFrame({'text': inp, 'true_label': labels_fr, 'pred_label': pred_labels_fr, 'pred_score': pred_scores_fr})\n",
    "df_fr[\"num_tokens\"] = df_fr.apply(\n",
    "    lambda x: len(x[\"text\"].split(\" \")), axis=1\n",
    ")\n",
    "df_fr.head()"
   ]
  },
  {
   "cell_type": "code",
   "execution_count": 8,
   "metadata": {
    "colab": {
     "base_uri": "https://localhost:8080/",
     "height": 296
    },
    "id": "PKgFvcOHI1HK",
    "outputId": "863a8d69-89fa-4070-e5f9-4a3c9af4e1ed"
   },
   "outputs": [
    {
     "data": {
      "image/png": "[encoded data removed]",
      "text/plain": [
       "<Figure size 432x288 with 2 Axes>"
      ]
     },
     "metadata": {
      "needs_background": "light"
     },
     "output_type": "display_data"
    }
   ],
   "source": [
    "import numpy as np\n",
    "import matplotlib.pyplot as plt\n",
    "import seaborn as sns\n",
    "import pandas as pd\n",
    "from sklearn.metrics import accuracy_score\n",
    "\n",
    "\n",
    "\n",
    "# calculate the confusion matrix using pd.crosstab\n",
    "cm = pd.crosstab(df['true_label'], df['pred_label'], rownames=['true_label'], colnames=['pred_label'])\n",
    "\n",
    "# create a heatmap of the confusion matrix using seaborn\n",
    "sns.heatmap(cm, annot=True, cmap='Blues', fmt='g', xticklabels=['0', '1'], yticklabels=['0', '1'])\n",
    "\n",
    "# set the axis labels and title\n",
    "plt.xlabel('pred_labels')\n",
    "plt.ylabel('true_labels')\n",
    "plt.title('Confusion Matrix EM dataset')\n",
    "\n",
    "# show the plot\n",
    "plt.show()"
   ]
  },
  {
   "cell_type": "code",
   "execution_count": 11,
   "metadata": {
    "colab": {
     "base_uri": "https://localhost:8080/",
     "height": 296
    },
    "id": "KAeIo4dljwdW",
    "outputId": "902700a1-3039-4a38-b198-6bd9d8e9af06"
   },
   "outputs": [
    {
     "data": {
      "image/png": "[encoded data removed]",
      "text/plain": [
       "<Figure size 432x288 with 2 Axes>"
      ]
     },
     "metadata": {
      "needs_background": "light"
     },
     "output_type": "display_data"
    }
   ],
   "source": [
    "import numpy as np\n",
    "import matplotlib.pyplot as plt\n",
    "import seaborn as sns\n",
    "import pandas as pd\n",
    "from sklearn.metrics import accuracy_score\n",
    "\n",
    "\n",
    "\n",
    "# calculate the confusion matrix using pd.crosstab\n",
    "cm = pd.crosstab(df_fr['true_label'], df_fr['pred_label'], rownames=['true_label'], colnames=['pred_label'])\n",
    "\n",
    "# create a heatmap of the confusion matrix using seaborn\n",
    "sns.heatmap(cm, annot=True, cmap='Blues', fmt='g', xticklabels=['0', '1'], yticklabels=['0', '1'])\n",
    "\n",
    "# set the axis labels and title\n",
    "plt.xlabel('pred_labels')\n",
    "plt.ylabel('true_labels')\n",
    "plt.title('Confusion Matrix FR Dataset')\n",
    "\n",
    "# show the plot\n",
    "plt.show()"
   ]
  },
  {
   "cell_type": "code",
   "execution_count": 9,
   "metadata": {
    "colab": {
     "base_uri": "https://localhost:8080/"
    },
    "id": "yfGfsx1kI6Bf",
    "outputId": "b511eee1-8298-44f7-97e3-3128bb871a50"
   },
   "outputs": [
    {
     "name": "stdout",
     "output_type": "stream",
     "text": [
      "              precision    recall  f1-score   support\n",
      "\n",
      "           0       0.26      0.46      0.33       158\n",
      "           1       0.92      0.83      0.88      1258\n",
      "\n",
      "    accuracy                           0.79      1416\n",
      "   macro avg       0.59      0.64      0.60      1416\n",
      "weighted avg       0.85      0.79      0.82      1416\n",
      "\n"
     ]
    }
   ],
   "source": [
    "from sklearn.metrics import classification_report\n",
    "\n",
    "report = classification_report(df['true_label'], df['pred_label'], target_names=['0', '1'])\n",
    "# report = classification_report(actual, predicted)\n",
    "print(report)"
   ]
  },
  {
   "cell_type": "code",
   "execution_count": 13,
   "metadata": {
    "colab": {
     "base_uri": "https://localhost:8080/"
    },
    "id": "VMGHs9xGkDNs",
    "outputId": "3f366b21-e691-4237-c3d4-8ca4e650020e"
   },
   "outputs": [
    {
     "name": "stdout",
     "output_type": "stream",
     "text": [
      "              precision    recall  f1-score   support\n",
      "\n",
      "           0       0.25      0.44      0.32       132\n",
      "           1       0.93      0.86      0.89      1200\n",
      "\n",
      "    accuracy                           0.82      1332\n",
      "   macro avg       0.59      0.65      0.61      1332\n",
      "weighted avg       0.87      0.82      0.84      1332\n",
      "\n"
     ]
    }
   ],
   "source": [
    "from sklearn.metrics import classification_report\n",
    "\n",
    "report = classification_report(df_fr['true_label'], df_fr['pred_label'], target_names=['0', '1'])\n",
    "# report = classification_report(actual, predicted)\n",
    "print(report)"
   ]
  },
  {
   "cell_type": "code",
   "execution_count": 10,
   "metadata": {
    "id": "CMKiKNI1LkcM"
   },
   "outputs": [],
   "source": [
    "acc_by_numtokens = df.groupby(\"num_tokens\").apply(\n",
    "    lambda x: {\n",
    "        \"accuracy\": accuracy_score(y_true=x[\"true_label\"], y_pred=x[\"pred_label\"]),\n",
    "        \"support\": x[\"true_label\"].count(),\n",
    "    }\n",
    ")\n",
    "\n",
    "acc_by_numtokens_df = pd.DataFrame(\n",
    "    acc_by_numtokens.tolist(), index=acc_by_numtokens.index\n",
    ")"
   ]
  },
  {
   "cell_type": "code",
   "execution_count": 15,
   "metadata": {
    "id": "-MNbjXk_kJKY"
   },
   "outputs": [],
   "source": [
    "acc_by_numtokens_fr = df_fr.groupby(\"num_tokens\").apply(\n",
    "    lambda x: {\n",
    "        \"accuracy\": accuracy_score(y_true=x[\"true_label\"], y_pred=x[\"pred_label\"]),\n",
    "        \"support\": x[\"true_label\"].count(),\n",
    "    }\n",
    ")\n",
    "\n",
    "acc_by_numtokens_df_fr = pd.DataFrame(\n",
    "    acc_by_numtokens_fr.tolist(), index=acc_by_numtokens_fr.index\n",
    ")"
   ]
  },
  {
   "cell_type": "code",
   "execution_count": 16,
   "metadata": {
    "colab": {
     "base_uri": "https://localhost:8080/",
     "height": 370
    },
    "id": "DGWJ177UL9xe",
    "outputId": "62d70041-70b8-4003-e36d-5b44b273c968"
   },
   "outputs": [
    {
     "data": {
      "text/plain": [
       "<matplotlib.axes._subplots.AxesSubplot at 0x7fc7d4bd9880>"
      ]
     },
     "execution_count": 16,
     "metadata": {},
     "output_type": "execute_result"
    },
    {
     "data": {
      "image/png": "[encoded data removed]",
      "text/plain": [
       "<Figure size 1080x360 with 1 Axes>"
      ]
     },
     "metadata": {
      "needs_background": "light"
     },
     "output_type": "display_data"
    }
   ],
   "source": [
    "acc_by_numtokens_df[\"accuracy\"].plot(\n",
    "    kind=\"bar\", figsize=(15, 5), title=\"Accuracy by Length of Text for EM\"\n",
    ")"
   ]
  },
  {
   "cell_type": "code",
   "execution_count": 17,
   "metadata": {
    "colab": {
     "base_uri": "https://localhost:8080/",
     "height": 370
    },
    "id": "ZcDZ0mddkV_X",
    "outputId": "a6781e87-22f5-43c4-8745-02c411d2f4eb"
   },
   "outputs": [
    {
     "data": {
      "text/plain": [
       "<matplotlib.axes._subplots.AxesSubplot at 0x7fc7d4ad4d90>"
      ]
     },
     "execution_count": 17,
     "metadata": {},
     "output_type": "execute_result"
    },
    {
     "data": {
      "image/png": "[encoded data removed]",
      "text/plain": [
       "<Figure size 1080x360 with 1 Axes>"
      ]
     },
     "metadata": {
      "needs_background": "light"
     },
     "output_type": "display_data"
    }
   ],
   "source": [
    "acc_by_numtokens_df_fr[\"accuracy\"].plot(\n",
    "    kind=\"bar\", figsize=(15, 5), title=\"Accuracy by Length of Text for FR\"\n",
    ")"
   ]
  },
  {
   "cell_type": "code",
   "execution_count": 18,
   "metadata": {
    "colab": {
     "base_uri": "https://localhost:8080/",
     "height": 353
    },
    "id": "YlFtsaxHMMxB",
    "outputId": "b802c0f1-14ed-472f-daf5-a1ff6ec3253e"
   },
   "outputs": [
    {
     "data": {
      "text/plain": [
       "<matplotlib.axes._subplots.AxesSubplot at 0x7fc7d49f7c70>"
      ]
     },
     "execution_count": 18,
     "metadata": {},
     "output_type": "execute_result"
    },
    {
     "data": {
      "image/png": "[encoded data removed]",
      "text/plain": [
       "<Figure size 720x360 with 1 Axes>"
      ]
     },
     "metadata": {
      "needs_background": "light"
     },
     "output_type": "display_data"
    }
   ],
   "source": [
    "df.pred_score.plot(\n",
    "    kind=\"hist\", bins=50, title=\"Distribution of Predicted Scores\", figsize=(10, 5)\n",
    ")"
   ]
  },
  {
   "cell_type": "code",
   "execution_count": 19,
   "metadata": {
    "colab": {
     "base_uri": "https://localhost:8080/",
     "height": 353
    },
    "id": "fDDLUocQkfwT",
    "outputId": "ce823b9b-8918-44cc-f00e-a3f723974ff9"
   },
   "outputs": [
    {
     "data": {
      "text/plain": [
       "<matplotlib.axes._subplots.AxesSubplot at 0x7fc7d4957880>"
      ]
     },
     "execution_count": 19,
     "metadata": {},
     "output_type": "execute_result"
    },
    {
     "data": {
      "image/png": "[encoded data removed]",
      "text/plain": [
       "<Figure size 720x360 with 1 Axes>"
      ]
     },
     "metadata": {
      "needs_background": "light"
     },
     "output_type": "display_data"
    }
   ],
   "source": [
    "df_fr.pred_score.plot(\n",
    "    kind=\"hist\", bins=50, title=\"Distribution of Predicted Scores\", figsize=(10, 5)\n",
    ")"
   ]
  },
  {
   "cell_type": "code",
   "execution_count": 20,
   "metadata": {
    "colab": {
     "base_uri": "https://localhost:8080/",
     "height": 353
    },
    "id": "_tr28uayMd3H",
    "outputId": "17945fc4-a7ec-48a9-a4b9-dfca7bb0b0b0"
   },
   "outputs": [
    {
     "data": {
      "text/plain": [
       "<matplotlib.axes._subplots.AxesSubplot at 0x7fc7d489b4c0>"
      ]
     },
     "execution_count": 20,
     "metadata": {},
     "output_type": "execute_result"
    },
    {
     "data": {
      "image/png": "[encoded data removed]",
      "text/plain": [
       "<Figure size 720x360 with 1 Axes>"
      ]
     },
     "metadata": {
      "needs_background": "light"
     },
     "output_type": "display_data"
    }
   ],
   "source": [
    "df[\n",
    "    (df.true_label == 0) & (df.pred_label == 1)\n",
    "].sort_values(by=\"pred_score\", ascending=False).pred_score.plot(\n",
    "    kind=\"hist\", bins=50, title=\"Distribution of Predicted Scores for EM\", figsize=(10, 5)\n",
    ")"
   ]
  },
  {
   "cell_type": "code",
   "execution_count": 21,
   "metadata": {
    "colab": {
     "base_uri": "https://localhost:8080/",
     "height": 353
    },
    "id": "5qj7TNATkjnY",
    "outputId": "97a6b23e-2756-480b-96aa-be3970d01d78"
   },
   "outputs": [
    {
     "data": {
      "text/plain": [
       "<matplotlib.axes._subplots.AxesSubplot at 0x7fc7d4760df0>"
      ]
     },
     "execution_count": 21,
     "metadata": {},
     "output_type": "execute_result"
    },
    {
     "data": {
      "image/png": "[encoded data removed]",
      "text/plain": [
       "<Figure size 720x360 with 1 Axes>"
      ]
     },
     "metadata": {
      "needs_background": "light"
     },
     "output_type": "display_data"
    }
   ],
   "source": [
    "df_fr[\n",
    "    (df_fr.true_label == 0) & (df_fr.pred_label == 1)\n",
    "].sort_values(by=\"pred_score\", ascending=False).pred_score.plot(\n",
    "    kind=\"hist\", bins=50, title=\"Distribution of Predicted Scores for FR\", figsize=(10, 5)\n",
    ")"
   ]
  },
  {
   "cell_type": "code",
   "execution_count": 22,
   "metadata": {
    "colab": {
     "base_uri": "https://localhost:8080/",
     "height": 353
    },
    "id": "1i57CmiYMq3P",
    "outputId": "82e7e38e-d0e6-47eb-c234-3de77656c7e2"
   },
   "outputs": [
    {
     "data": {
      "text/plain": [
       "<matplotlib.axes._subplots.AxesSubplot at 0x7fc7d46583a0>"
      ]
     },
     "execution_count": 22,
     "metadata": {},
     "output_type": "execute_result"
    },
    {
     "data": {
      "image/png": "[encoded data removed]",
      "text/plain": [
       "<Figure size 720x360 with 1 Axes>"
      ]
     },
     "metadata": {
      "needs_background": "light"
     },
     "output_type": "display_data"
    }
   ],
   "source": [
    "df[\n",
    "    (df.true_label == 1) & (df.pred_label == 0)\n",
    "].sort_values(by=\"pred_score\", ascending=False).pred_score.plot(\n",
    "    kind=\"hist\", bins=50, title=\"Distribution of Predicted Scores for EM\", figsize=(10, 5)\n",
    ")"
   ]
  },
  {
   "cell_type": "code",
   "execution_count": 23,
   "metadata": {
    "colab": {
     "base_uri": "https://localhost:8080/",
     "height": 353
    },
    "id": "NcXQ4Veykx40",
    "outputId": "3b3086b6-bb59-4164-a571-98c62bbe2eb4"
   },
   "outputs": [
    {
     "data": {
      "text/plain": [
       "<matplotlib.axes._subplots.AxesSubplot at 0x7fc7d45b0400>"
      ]
     },
     "execution_count": 23,
     "metadata": {},
     "output_type": "execute_result"
    },
    {
     "data": {
      "image/png": "[encoded data removed]",
      "text/plain": [
       "<Figure size 720x360 with 1 Axes>"
      ]
     },
     "metadata": {
      "needs_background": "light"
     },
     "output_type": "display_data"
    }
   ],
   "source": [
    "df_fr[\n",
    "    (df_fr.true_label == 1) & (df_fr.pred_label == 0)\n",
    "].sort_values(by=\"pred_score\", ascending=False).pred_score.plot(\n",
    "    kind=\"hist\", bins=50, title=\"Distribution of Predicted Scores for FR\", figsize=(10, 5)\n",
    ")"
   ]
  },
  {
   "cell_type": "code",
   "execution_count": 13,
   "metadata": {
    "id": "mPMKaBYeJB3p"
   },
   "outputs": [],
   "source": [
    "def highlight_classification_errors(df,kind, n=50):\n",
    "    # assume the actual and predicted labels are stored in two columns of a DataFrame called 'df'\n",
    "    # the 'kind' argument specifies whether to highlight false positives (fp) or false negatives (fn)\n",
    "    \n",
    "    # get the indices of the misclassified records\n",
    "    if kind == \"fp\":\n",
    "        misclassified_indices = df[(df['true_label'] == 0) & (df['pred_label'] == 1)].head(n).index\n",
    "    elif kind == \"fn\":\n",
    "        misclassified_indices = df[(df['true_label'] == 1) & (df['pred_label'] == 0)].head(n).index\n",
    "    else:\n",
    "        raise ValueError(\"Invalid kind argument, should be 'fp' or 'fn'.\")\n",
    "    \n",
    "    # create an empty list to store the misclassified records\n",
    "    records = []\n",
    "    \n",
    "    # loop over the misclassified indices and add the records to the list\n",
    "    for i in misclassified_indices:\n",
    "        actual_label = df.loc[i, 'true_label']\n",
    "        predicted_label = df.loc[i, 'pred_label']\n",
    "        record_text = df.loc[i, 'sourcetext']\n",
    "        records.append(f\"Record #{i} classified as {predicted_label}, when actual label is {actual_label}: \\n\\t {record_text}\")\n",
    "        \n",
    "        # find the index of the corresponding record with the opposite predicted label\n",
    "        opposite_predicted_label = 1 - predicted_label\n",
    "        opposite_predicted_index = df[(df['true_label'] == actual_label) & (df['pred_label'] == opposite_predicted_label)].index[0]\n",
    "        opposite_record_text = df.loc[opposite_predicted_index, 'targettext']\n",
    "        records.append(f\"Here's its {opposite_predicted_label} labeled counterpart #{opposite_predicted_index}: \\n\\t {opposite_record_text}\")\n",
    "        \n",
    "        # add a separator between the records\n",
    "        records.append('-'*70)\n",
    "    \n",
    "    # join the list of misclassified records into a single string\n",
    "    output_string = '\\n'.join(records)\n",
    "    \n",
    "    # return the output string\n",
    "    return output_string"
   ]
  },
  {
   "cell_type": "code",
   "execution_count": 14,
   "metadata": {
    "id": "1fqb0IPIJEWa"
   },
   "outputs": [],
   "source": [
    "styled_cm = highlight_classification_errors(df, kind=\"fp\", n=50)"
   ]
  },
  {
   "cell_type": "code",
   "execution_count": 19,
   "metadata": {
    "colab": {
     "base_uri": "https://localhost:8080/",
     "height": 641
    },
    "id": "pe2lKJJXIuab",
    "outputId": "4101474d-cbea-4aff-932e-246c7a4ad27d"
   },
   "outputs": [
    {
     "data": {
      "text/html": [
       "\n",
       "  <div id=\"df-53957c35-6c47-44d7-8a53-e6e291df3038\">\n",
       "    <div class=\"colab-df-container\">\n",
       "      <div>\n",
       "<style scoped>\n",
       "    .dataframe tbody tr th:only-of-type {\n",
       "        vertical-align: middle;\n",
       "    }\n",
       "\n",
       "    .dataframe tbody tr th {\n",
       "        vertical-align: top;\n",
       "    }\n",
       "\n",
       "    .dataframe thead th {\n",
       "        text-align: right;\n",
       "    }\n",
       "</style>\n",
       "<table border=\"1\" class=\"dataframe\">\n",
       "  <thead>\n",
       "    <tr style=\"text-align: right;\">\n",
       "      <th></th>\n",
       "      <th>sourcetext</th>\n",
       "      <th>targettext</th>\n",
       "      <th>predictedtext</th>\n",
       "      <th>true_label</th>\n",
       "      <th>pred_label</th>\n",
       "      <th>pred_score</th>\n",
       "      <th>num_tokens</th>\n",
       "    </tr>\n",
       "  </thead>\n",
       "  <tbody>\n",
       "    <tr>\n",
       "      <th>0</th>\n",
       "      <td>Is Any Baby Really A Freak.</td>\n",
       "      <td>['Is any baby really a freak.', 'Is any baby r...</td>\n",
       "      <td>Is any baby really a Freak?</td>\n",
       "      <td>0</td>\n",
       "      <td>0</td>\n",
       "      <td>0.984546</td>\n",
       "      <td>6</td>\n",
       "    </tr>\n",
       "    <tr>\n",
       "      <th>1</th>\n",
       "      <td>aspen colorado has he best music festivals, yo...</td>\n",
       "      <td>['Aspen Colorado has he best music festivals, ...</td>\n",
       "      <td>Aspen Colorado has one of the best music festi...</td>\n",
       "      <td>0</td>\n",
       "      <td>1</td>\n",
       "      <td>0.995043</td>\n",
       "      <td>20</td>\n",
       "    </tr>\n",
       "    <tr>\n",
       "      <th>2</th>\n",
       "      <td>You can get almost anything on ebay!</td>\n",
       "      <td>['You can get almost anything on ebay!', 'You ...</td>\n",
       "      <td>You can get almost anything on eBay!</td>\n",
       "      <td>1</td>\n",
       "      <td>1</td>\n",
       "      <td>0.935910</td>\n",
       "      <td>7</td>\n",
       "    </tr>\n",
       "    <tr>\n",
       "      <th>3</th>\n",
       "      <td>everybody is Dying to get in</td>\n",
       "      <td>['everybody is dying to get in.', 'Everyone is...</td>\n",
       "      <td>Everyone is dying to get in.</td>\n",
       "      <td>1</td>\n",
       "      <td>1</td>\n",
       "      <td>0.904629</td>\n",
       "      <td>6</td>\n",
       "    </tr>\n",
       "    <tr>\n",
       "      <th>4</th>\n",
       "      <td>not idiots like 50 cent and his whole Gay unit...</td>\n",
       "      <td>[\"I'm not referring to people like 50 cent and...</td>\n",
       "      <td>Not idiots like 50 Cent and his entire Gay uni...</td>\n",
       "      <td>1</td>\n",
       "      <td>1</td>\n",
       "      <td>0.977824</td>\n",
       "      <td>18</td>\n",
       "    </tr>\n",
       "    <tr>\n",
       "      <th>...</th>\n",
       "      <td>...</td>\n",
       "      <td>...</td>\n",
       "      <td>...</td>\n",
       "      <td>...</td>\n",
       "      <td>...</td>\n",
       "      <td>...</td>\n",
       "      <td>...</td>\n",
       "    </tr>\n",
       "    <tr>\n",
       "      <th>1411</th>\n",
       "      <td>I LUBB IT.. [8] ILL KEEP U MY DIRRTY LITTLE SE...</td>\n",
       "      <td>['I very much enjoy it. I will keep this unple...</td>\n",
       "      <td>I love it. I will keep you my little girl.</td>\n",
       "      <td>1</td>\n",
       "      <td>1</td>\n",
       "      <td>0.983442</td>\n",
       "      <td>12</td>\n",
       "    </tr>\n",
       "    <tr>\n",
       "      <th>1412</th>\n",
       "      <td>I guess it is the blond from american idol</td>\n",
       "      <td>['I believe that it is the blonde from America...</td>\n",
       "      <td>I guess it is the blond from American Idol.</td>\n",
       "      <td>1</td>\n",
       "      <td>1</td>\n",
       "      <td>0.970933</td>\n",
       "      <td>9</td>\n",
       "    </tr>\n",
       "    <tr>\n",
       "      <th>1413</th>\n",
       "      <td>(no offance) If you can answer that then it's ...</td>\n",
       "      <td>['No offence, but if you are able to answer th...</td>\n",
       "      <td>If you can answer that, then it is the same fo...</td>\n",
       "      <td>1</td>\n",
       "      <td>1</td>\n",
       "      <td>0.992202</td>\n",
       "      <td>14</td>\n",
       "    </tr>\n",
       "    <tr>\n",
       "      <th>1414</th>\n",
       "      <td>the song was called epic, i cant remember the ...</td>\n",
       "      <td>['The song was called \"Epic\"; I can not rememb...</td>\n",
       "      <td>The song was called Epic. I cannot remember th...</td>\n",
       "      <td>1</td>\n",
       "      <td>1</td>\n",
       "      <td>0.995315</td>\n",
       "      <td>16</td>\n",
       "    </tr>\n",
       "    <tr>\n",
       "      <th>1415</th>\n",
       "      <td>hey Mar...that commercial is for Dairy Queen.....</td>\n",
       "      <td>['Mar, I thought I would let you know that tha...</td>\n",
       "      <td>Hello Mar, that commercial is for Dairy Queen....</td>\n",
       "      <td>1</td>\n",
       "      <td>1</td>\n",
       "      <td>0.995185</td>\n",
       "      <td>12</td>\n",
       "    </tr>\n",
       "  </tbody>\n",
       "</table>\n",
       "<p>1416 rows × 7 columns</p>\n",
       "</div>\n",
       "      <button class=\"colab-df-convert\" onclick=\"convertToInteractive('df-53957c35-6c47-44d7-8a53-e6e291df3038')\"\n",
       "              title=\"Convert this dataframe to an interactive table.\"\n",
       "              style=\"display:none;\">\n",
       "        \n",
       "  <svg xmlns=\"http://www.w3.org/2000/svg\" height=\"24px\"viewBox=\"0 0 24 24\"\n",
       "       width=\"24px\">\n",
       "    <path d=\"M0 0h24v24H0V0z\" fill=\"none\"/>\n",
       "    <path d=\"M18.56 5.44l.94 2.06.94-2.06 2.06-.94-2.06-.94-.94-2.06-.94 2.06-2.06.94zm-11 1L8.5 8.5l.94-2.06 2.06-.94-2.06-.94L8.5 2.5l-.94 2.06-2.06.94zm10 10l.94 2.06.94-2.06 2.06-.94-2.06-.94-.94-2.06-.94 2.06-2.06.94z\"/><path d=\"M17.41 7.96l-1.37-1.37c-.4-.4-.92-.59-1.43-.59-.52 0-1.04.2-1.43.59L10.3 9.45l-7.72 7.72c-.78.78-.78 2.05 0 2.83L4 21.41c.39.39.9.59 1.41.59.51 0 1.02-.2 1.41-.59l7.78-7.78 2.81-2.81c.8-.78.8-2.07 0-2.86zM5.41 20L4 18.59l7.72-7.72 1.47 1.35L5.41 20z\"/>\n",
       "  </svg>\n",
       "      </button>\n",
       "      \n",
       "  <style>\n",
       "    .colab-df-container {\n",
       "      display:flex;\n",
       "      flex-wrap:wrap;\n",
       "      gap: 12px;\n",
       "    }\n",
       "\n",
       "    .colab-df-convert {\n",
       "      background-color: #E8F0FE;\n",
       "      border: none;\n",
       "      border-radius: 50%;\n",
       "      cursor: pointer;\n",
       "      display: none;\n",
       "      fill: #1967D2;\n",
       "      height: 32px;\n",
       "      padding: 0 0 0 0;\n",
       "      width: 32px;\n",
       "    }\n",
       "\n",
       "    .colab-df-convert:hover {\n",
       "      background-color: #E2EBFA;\n",
       "      box-shadow: 0px 1px 2px rgba(60, 64, 67, 0.3), 0px 1px 3px 1px rgba(60, 64, 67, 0.15);\n",
       "      fill: #174EA6;\n",
       "    }\n",
       "\n",
       "    [theme=dark] .colab-df-convert {\n",
       "      background-color: #3B4455;\n",
       "      fill: #D2E3FC;\n",
       "    }\n",
       "\n",
       "    [theme=dark] .colab-df-convert:hover {\n",
       "      background-color: #434B5C;\n",
       "      box-shadow: 0px 1px 3px 1px rgba(0, 0, 0, 0.15);\n",
       "      filter: drop-shadow(0px 1px 2px rgba(0, 0, 0, 0.3));\n",
       "      fill: #FFFFFF;\n",
       "    }\n",
       "  </style>\n",
       "\n",
       "      <script>\n",
       "        const buttonEl =\n",
       "          document.querySelector('#df-53957c35-6c47-44d7-8a53-e6e291df3038 button.colab-df-convert');\n",
       "        buttonEl.style.display =\n",
       "          google.colab.kernel.accessAllowed ? 'block' : 'none';\n",
       "\n",
       "        async function convertToInteractive(key) {\n",
       "          const element = document.querySelector('#df-53957c35-6c47-44d7-8a53-e6e291df3038');\n",
       "          const dataTable =\n",
       "            await google.colab.kernel.invokeFunction('convertToInteractive',\n",
       "                                                     [key], {});\n",
       "          if (!dataTable) return;\n",
       "\n",
       "          const docLinkHtml = 'Like what you see? Visit the ' +\n",
       "            '<a target=\"_blank\" href=https://colab.research.google.com/notebooks/data_table.ipynb>data table notebook</a>'\n",
       "            + ' to learn more about interactive tables.';\n",
       "          element.innerHTML = '';\n",
       "          dataTable['output_type'] = 'display_data';\n",
       "          await google.colab.output.renderOutput(dataTable, element);\n",
       "          const docLink = document.createElement('div');\n",
       "          docLink.innerHTML = docLinkHtml;\n",
       "          element.appendChild(docLink);\n",
       "        }\n",
       "      </script>\n",
       "    </div>\n",
       "  </div>\n",
       "  "
      ],
      "text/plain": [
       "                                             sourcetext  \\\n",
       "0                           Is Any Baby Really A Freak.   \n",
       "1     aspen colorado has he best music festivals, yo...   \n",
       "2                  You can get almost anything on ebay!   \n",
       "3                          everybody is Dying to get in   \n",
       "4     not idiots like 50 cent and his whole Gay unit...   \n",
       "...                                                 ...   \n",
       "1411  I LUBB IT.. [8] ILL KEEP U MY DIRRTY LITTLE SE...   \n",
       "1412         I guess it is the blond from american idol   \n",
       "1413  (no offance) If you can answer that then it's ...   \n",
       "1414  the song was called epic, i cant remember the ...   \n",
       "1415  hey Mar...that commercial is for Dairy Queen.....   \n",
       "\n",
       "                                             targettext  \\\n",
       "0     ['Is any baby really a freak.', 'Is any baby r...   \n",
       "1     ['Aspen Colorado has he best music festivals, ...   \n",
       "2     ['You can get almost anything on ebay!', 'You ...   \n",
       "3     ['everybody is dying to get in.', 'Everyone is...   \n",
       "4     [\"I'm not referring to people like 50 cent and...   \n",
       "...                                                 ...   \n",
       "1411  ['I very much enjoy it. I will keep this unple...   \n",
       "1412  ['I believe that it is the blonde from America...   \n",
       "1413  ['No offence, but if you are able to answer th...   \n",
       "1414  ['The song was called \"Epic\"; I can not rememb...   \n",
       "1415  ['Mar, I thought I would let you know that tha...   \n",
       "\n",
       "                                          predictedtext  true_label  \\\n",
       "0                           Is any baby really a Freak?           0   \n",
       "1     Aspen Colorado has one of the best music festi...           0   \n",
       "2                  You can get almost anything on eBay!           1   \n",
       "3                          Everyone is dying to get in.           1   \n",
       "4     Not idiots like 50 Cent and his entire Gay uni...           1   \n",
       "...                                                 ...         ...   \n",
       "1411         I love it. I will keep you my little girl.           1   \n",
       "1412        I guess it is the blond from American Idol.           1   \n",
       "1413  If you can answer that, then it is the same fo...           1   \n",
       "1414  The song was called Epic. I cannot remember th...           1   \n",
       "1415  Hello Mar, that commercial is for Dairy Queen....           1   \n",
       "\n",
       "      pred_label  pred_score  num_tokens  \n",
       "0              0    0.984546           6  \n",
       "1              1    0.995043          20  \n",
       "2              1    0.935910           7  \n",
       "3              1    0.904629           6  \n",
       "4              1    0.977824          18  \n",
       "...          ...         ...         ...  \n",
       "1411           1    0.983442          12  \n",
       "1412           1    0.970933           9  \n",
       "1413           1    0.992202          14  \n",
       "1414           1    0.995315          16  \n",
       "1415           1    0.995185          12  \n",
       "\n",
       "[1416 rows x 7 columns]"
      ]
     },
     "execution_count": 19,
     "metadata": {},
     "output_type": "execute_result"
    }
   ],
   "source": [
    "df"
   ]
  },
  {
   "cell_type": "code",
   "execution_count": 20,
   "metadata": {
    "colab": {
     "base_uri": "https://localhost:8080/"
    },
    "id": "WCMf4dAcJJno",
    "outputId": "133f48b1-23fb-4135-e385-50c4c51b95d8"
   },
   "outputs": [
    {
     "name": "stdout",
     "output_type": "stream",
     "text": [
      "Style Classifier Score: 0.9970366954803467\n",
      "True Label: 1\n",
      "Pred label: 0\n",
      "SOURCE_TEXT: The Chinese get the Rizza, the Jizza, and the Ghost Face Killer!!\n",
      "TARGET_TEXT: ['In China, they have The Rizza, The Jizza, and the Ghost Face Killer.', '\"The Chinese get \\'The Rizza,\\' \\'The Jizza,\\' and the \\'Ghost Face Killa\\'!\"', 'The Chinese have the Rizza, the Jizza, and the Ghost Face Killer.', 'They get Rizza, Jizza, and Ghost Face Killer.']\n",
      "PREDICTED_TEXT: The Chinese get the Rizza, the Jizza, and the Ghost Face Killer.\n",
      "----------------------------------------------------\n",
      "\n",
      "Style Classifier Score: 0.9969937801361084\n",
      "True Label: 1\n",
      "Pred label: 0\n",
      "SOURCE_TEXT: rabbit feet only work on ppl, not the rabbit they came from\n",
      "TARGET_TEXT: ['Rabbit feet only are effective for people, not the rabbit they stemmed from.', 'Rabbit feet are only effective on people, not the rabbits from which they come.', 'Rabbits fees are only effective for people, not the rabbits from which they come.', 'Rabbit feet only work on people, not the rabbit they were removed from.']\n",
      "PREDICTED_TEXT: Rabbit feet only work on ppl, not the rabbit they came from.\n",
      "----------------------------------------------------\n",
      "\n",
      "Style Classifier Score: 0.9969455599784851\n",
      "True Label: 1\n",
      "Pred label: 0\n",
      "SOURCE_TEXT: well if one brick is 1.5 lbs and you have 1.5 bricks then the answer would be 2.25lbs\n",
      "TARGET_TEXT: ['If one brick weighs one and a half pounds and you have one and a half bricks, then the answer would be two and a quarter pounds.', 'If you have a brick that is 1.5lb and you have one and a half bricks, then the total weight is 2.25lb.', 'If one brick is 1.5 pounds, and you have 1.5 bricks, the answer is 2.25 pounds.', 'If one brick is 1.5 pounds and you have 1.5 bricks, then the answer would be 2.25 pounds.']\n",
      "PREDICTED_TEXT: If one brick is 1.5 lbs and you have one.5 bricks, the answer would be two.\n",
      "----------------------------------------------------\n",
      "\n",
      "Style Classifier Score: 0.9968212842941284\n",
      "True Label: 1\n",
      "Pred label: 0\n",
      "SOURCE_TEXT: They just want to express what they like and making a banging tune  :)\n",
      "TARGET_TEXT: ['They are simply interested in expressing themselves, and creating a lively tune.', 'They want to express what they like and make a great song.', 'They just want to express what they like and make a \"banging\" tune.', 'They want to express what they like by making a banging tune.']\n",
      "PREDICTED_TEXT: They just want to express what they like and make a banging tune.\n",
      "----------------------------------------------------\n",
      "\n",
      "Style Classifier Score: 0.9967765212059021\n",
      "True Label: 1\n",
      "Pred label: 0\n",
      "SOURCE_TEXT: A guy that went to my hubby's school....ready.....Urine Sample.\n",
      "TARGET_TEXT: ['A man that went to my husband\\'s school - ready? - \"Urine Sample.\"', \"A guy that went to my husband's school was ready with a urine sample.\", 'A urine sample from a man who attended school with my husband.', 'A man that went to school with my husband is named Urine Sample.']\n",
      "PREDICTED_TEXT: A man that went to my hubby's school.\n",
      "----------------------------------------------------\n",
      "\n",
      "Style Classifier Score: 0.9967760443687439\n",
      "True Label: 1\n",
      "Pred label: 0\n",
      "SOURCE_TEXT: You won't go wrong, if you watch this one!!!!!!\n",
      "TARGET_TEXT: ['You will not go wrong if you watch this one.', \"You can't go wrong watching this!\", 'You need to watch this.', 'You will not go wrong if you watch this one!']\n",
      "PREDICTED_TEXT: You will not go wrong if you watch this one!\n",
      "----------------------------------------------------\n",
      "\n",
      "Style Classifier Score: 0.9967193007469177\n",
      "True Label: 1\n",
      "Pred label: 0\n",
      "SOURCE_TEXT: Quit chewing the fat, I'm cookin??\n",
      "TARGET_TEXT: ['Quit the friendly small talk because I am cooking?', 'Stop talking, I am speaking.', 'Quit chewing the fat because I am cooking.', 'You can stop talking to me because I know I am right.']\n",
      "PREDICTED_TEXT: Quit chewing the fat, I'm cookin?\n",
      "----------------------------------------------------\n",
      "\n",
      "Style Classifier Score: 0.9967085123062134\n",
      "True Label: 1\n",
      "Pred label: 0\n",
      "SOURCE_TEXT: (not to be mean, just lettin you know) :)\n",
      "TARGET_TEXT: ['I do not intend to be mean, I am merely informing you.', 'I am not trying to be mean.', 'I am not trying to be rude, I just want you to know.', 'I do not intend to be mean, I am simply informing you.']\n",
      "PREDICTED_TEXT: Not to be mean, just lettin you know.\n",
      "----------------------------------------------------\n",
      "\n",
      "Style Classifier Score: 0.9966638684272766\n",
      "True Label: 1\n",
      "Pred label: 0\n",
      "SOURCE_TEXT: 8 mile is the real deal.\n",
      "TARGET_TEXT: ['It is really eight miles.', '\"8 Mile\" is a very authentic film.', 'Eight-Mile is the real deal.', '\"8 Mile\" is the real deal.']\n",
      "PREDICTED_TEXT: 8 mile is the real deal.\n",
      "----------------------------------------------------\n",
      "\n",
      "Style Classifier Score: 0.996649444103241\n",
      "True Label: 1\n",
      "Pred label: 0\n",
      "SOURCE_TEXT: Sleepy Grumpy Doc Sneezy Happy Dopey Bashful!\n",
      "TARGET_TEXT: ['Sleepy, Grumpy, Doc, Sneezy, Happy, Dopey, and Bashful are the seven dwarves!', 'The seven dwarves are these: Sleepy, Grumpy, Doc, Sneezy, Happy, Dopey, and Bashful.', 'The Seven Dwarfs are Sleepy, Grumpy, Doc, Sneezy, Happy, Dopey, and Bashful.', 'Sleepy, Grumpy, Doc, Sneezy, Happy, Dopey, Bashful.']\n",
      "PREDICTED_TEXT: Sleepy Grumpy Doc Sneezy Happy Dopey Bashful!\n",
      "----------------------------------------------------\n",
      "\n"
     ]
    }
   ],
   "source": [
    "def print_text_triplet(metric_df):\n",
    "\n",
    "    for i, row in metric_df.iterrows():\n",
    "        print(f\"Style Classifier Score: {row.pred_score}\")\n",
    "        print(f\"True Label: {row.true_label}\")\n",
    "        print(f\"Pred label: {row.pred_label}\")\n",
    "        print(f\"SOURCE_TEXT: {row.sourcetext}\")\n",
    "        print(f\"TARGET_TEXT: {row.targettext}\")\n",
    "        print(f\"PREDICTED_TEXT: {row.predictedtext}\")\n",
    "        print(\"----------------------------------------------------\")\n",
    "        print()\n",
    "print_text_triplet(\n",
    "    df[df.true_label != df.pred_label].sort_values(\n",
    "        \"pred_score\", ascending=False\n",
    "    )[:10]\n",
    ")"
   ]
  },
  {
   "cell_type": "code",
   "execution_count": 15,
   "metadata": {
    "colab": {
     "base_uri": "https://localhost:8080/"
    },
    "id": "7qgR22W34Nt7",
    "outputId": "86762976-4e0a-4a51-8d20-bee295993787"
   },
   "outputs": [
    {
     "name": "stdout",
     "output_type": "stream",
     "text": [
      "Record #1 classified as 1, when actual label is 0: \n",
      "\t aspen colorado has he best music festivals, you sit all over the moutians its  on and just hang out\n",
      "Here's its 0 labeled counterpart #0: \n",
      "\t ['Is any baby really a freak.', 'Is any baby really a freak?', 'Is Any Baby really strange?', 'Is anyone really that crazy?']\n",
      "----------------------------------------------------------------------\n",
      "Record #12 classified as 1, when actual label is 0: \n",
      "\t i betta go and ask another stupid question lol....\n",
      "Here's its 0 labeled counterpart #0: \n",
      "\t ['Is any baby really a freak.', 'Is any baby really a freak?', 'Is Any Baby really strange?', 'Is anyone really that crazy?']\n",
      "----------------------------------------------------------------------\n",
      "Record #59 classified as 1, when actual label is 0: \n",
      "\t My dad looks like Paul Newman, and my ex looked like king kong\n",
      "Here's its 0 labeled counterpart #0: \n",
      "\t ['Is any baby really a freak.', 'Is any baby really a freak?', 'Is Any Baby really strange?', 'Is anyone really that crazy?']\n",
      "----------------------------------------------------------------------\n",
      "Record #116 classified as 1, when actual label is 0: \n",
      "\t Have still not dug it up.\n",
      "Here's its 0 labeled counterpart #0: \n",
      "\t ['Is any baby really a freak.', 'Is any baby really a freak?', 'Is Any Baby really strange?', 'Is anyone really that crazy?']\n",
      "----------------------------------------------------------------------\n",
      "Record #122 classified as 1, when actual label is 0: \n",
      "\t I love Tyra, she has a great show, but Oprah is just great!\n",
      "Here's its 0 labeled counterpart #0: \n",
      "\t ['Is any baby really a freak.', 'Is any baby really a freak?', 'Is Any Baby really strange?', 'Is anyone really that crazy?']\n",
      "----------------------------------------------------------------------\n",
      "Record #156 classified as 1, when actual label is 0: \n",
      "\t Journey, PINK FLOYD, The POLICE, The EAGLES & RUSH... omg!\n",
      "Here's its 0 labeled counterpart #0: \n",
      "\t ['Is any baby really a freak.', 'Is any baby really a freak?', 'Is Any Baby really strange?', 'Is anyone really that crazy?']\n",
      "----------------------------------------------------------------------\n",
      "Record #183 classified as 1, when actual label is 0: \n",
      "\t Mine, well I actually have like a few favorites!\n",
      "Here's its 0 labeled counterpart #0: \n",
      "\t ['Is any baby really a freak.', 'Is any baby really a freak?', 'Is Any Baby really strange?', 'Is anyone really that crazy?']\n",
      "----------------------------------------------------------------------\n",
      "Record #204 classified as 1, when actual label is 0: \n",
      "\t I think so, my turtle always does, he's healthy.\n",
      "Here's its 0 labeled counterpart #0: \n",
      "\t ['Is any baby really a freak.', 'Is any baby really a freak?', 'Is Any Baby really strange?', 'Is anyone really that crazy?']\n",
      "----------------------------------------------------------------------\n",
      "Record #206 classified as 1, when actual label is 0: \n",
      "\t Wow, I am very dumb in my observation skills......\n",
      "Here's its 0 labeled counterpart #0: \n",
      "\t ['Is any baby really a freak.', 'Is any baby really a freak?', 'Is Any Baby really strange?', 'Is anyone really that crazy?']\n",
      "----------------------------------------------------------------------\n",
      "Record #240 classified as 1, when actual label is 0: \n",
      "\t youtube.com has alot of funny ads from the present also\n",
      "Here's its 0 labeled counterpart #0: \n",
      "\t ['Is any baby really a freak.', 'Is any baby really a freak?', 'Is Any Baby really strange?', 'Is anyone really that crazy?']\n",
      "----------------------------------------------------------------------\n",
      "Record #243 classified as 1, when actual label is 0: \n",
      "\t Yo mama so stupid she put out the cigarette butt that was heating your house.\n",
      "Here's its 0 labeled counterpart #0: \n",
      "\t ['Is any baby really a freak.', 'Is any baby really a freak?', 'Is Any Baby really strange?', 'Is anyone really that crazy?']\n",
      "----------------------------------------------------------------------\n",
      "Record #244 classified as 1, when actual label is 0: \n",
      "\t If they do come back (i hope not) GOOD LUCK!\n",
      "Here's its 0 labeled counterpart #0: \n",
      "\t ['Is any baby really a freak.', 'Is any baby really a freak?', 'Is Any Baby really strange?', 'Is anyone really that crazy?']\n",
      "----------------------------------------------------------------------\n",
      "Record #255 classified as 1, when actual label is 0: \n",
      "\t I guess he's a good enough looking guy (his wife is a GODDESS)!\n",
      "Here's its 0 labeled counterpart #0: \n",
      "\t ['Is any baby really a freak.', 'Is any baby really a freak?', 'Is Any Baby really strange?', 'Is anyone really that crazy?']\n",
      "----------------------------------------------------------------------\n",
      "Record #283 classified as 1, when actual label is 0: \n",
      "\t first don't tell anyone you know you will never live it down.\n",
      "Here's its 0 labeled counterpart #0: \n",
      "\t ['Is any baby really a freak.', 'Is any baby really a freak?', 'Is Any Baby really strange?', 'Is anyone really that crazy?']\n",
      "----------------------------------------------------------------------\n",
      "Record #284 classified as 1, when actual label is 0: \n",
      "\t if he's so bad a veggie that even eating animal crackers seems a crime, we cant help it.\n",
      "Here's its 0 labeled counterpart #0: \n",
      "\t ['Is any baby really a freak.', 'Is any baby really a freak?', 'Is Any Baby really strange?', 'Is anyone really that crazy?']\n",
      "----------------------------------------------------------------------\n",
      "Record #298 classified as 1, when actual label is 0: \n",
      "\t you so need to rent the swetest thing!!!!\n",
      "Here's its 0 labeled counterpart #0: \n",
      "\t ['Is any baby really a freak.', 'Is any baby really a freak?', 'Is Any Baby really strange?', 'Is anyone really that crazy?']\n",
      "----------------------------------------------------------------------\n",
      "Record #309 classified as 1, when actual label is 0: \n",
      "\t kazza or limewire and i think eztrackz\n",
      "Here's its 0 labeled counterpart #0: \n",
      "\t ['Is any baby really a freak.', 'Is any baby really a freak?', 'Is Any Baby really strange?', 'Is anyone really that crazy?']\n",
      "----------------------------------------------------------------------\n",
      "Record #338 classified as 1, when actual label is 0: \n",
      "\t c'mon  he can't even wipe his own butt but can speak intelligently?????\n",
      "Here's its 0 labeled counterpart #0: \n",
      "\t ['Is any baby really a freak.', 'Is any baby really a freak?', 'Is Any Baby really strange?', 'Is anyone really that crazy?']\n",
      "----------------------------------------------------------------------\n",
      "Record #424 classified as 1, when actual label is 0: \n",
      "\t STEELERS WHEELS, SEE THE MOVIE RESERVOIR DOGS LOL!\n",
      "Here's its 0 labeled counterpart #0: \n",
      "\t ['Is any baby really a freak.', 'Is any baby really a freak?', 'Is Any Baby really strange?', 'Is anyone really that crazy?']\n",
      "----------------------------------------------------------------------\n",
      "Record #443 classified as 1, when actual label is 0: \n",
      "\t me and my kids love that show!\n",
      "Here's its 0 labeled counterpart #0: \n",
      "\t ['Is any baby really a freak.', 'Is any baby really a freak?', 'Is Any Baby really strange?', 'Is anyone really that crazy?']\n",
      "----------------------------------------------------------------------\n",
      "Record #452 classified as 1, when actual label is 0: \n",
      "\t Pretty much quit in my late twenties.\n",
      "Here's its 0 labeled counterpart #0: \n",
      "\t ['Is any baby really a freak.', 'Is any baby really a freak?', 'Is Any Baby really strange?', 'Is anyone really that crazy?']\n",
      "----------------------------------------------------------------------\n",
      "Record #510 classified as 1, when actual label is 0: \n",
      "\t they are a pretty good band I like them a little.\n",
      "Here's its 0 labeled counterpart #0: \n",
      "\t ['Is any baby really a freak.', 'Is any baby really a freak?', 'Is Any Baby really strange?', 'Is anyone really that crazy?']\n",
      "----------------------------------------------------------------------\n",
      "Record #540 classified as 1, when actual label is 0: \n",
      "\t 7th heavens ok but it isn't relatable at all.\n",
      "Here's its 0 labeled counterpart #0: \n",
      "\t ['Is any baby really a freak.', 'Is any baby really a freak?', 'Is Any Baby really strange?', 'Is anyone really that crazy?']\n",
      "----------------------------------------------------------------------\n",
      "Record #541 classified as 1, when actual label is 0: \n",
      "\t just imagine what this person can do...and he or she can get away with it...oh!\n",
      "Here's its 0 labeled counterpart #0: \n",
      "\t ['Is any baby really a freak.', 'Is any baby really a freak?', 'Is Any Baby really strange?', 'Is anyone really that crazy?']\n",
      "----------------------------------------------------------------------\n",
      "Record #547 classified as 1, when actual label is 0: \n",
      "\t this question reminds me of that song.\n",
      "Here's its 0 labeled counterpart #0: \n",
      "\t ['Is any baby really a freak.', 'Is any baby really a freak?', 'Is Any Baby really strange?', 'Is anyone really that crazy?']\n",
      "----------------------------------------------------------------------\n",
      "Record #563 classified as 1, when actual label is 0: \n",
      "\t from men Mccartney and girls Lindsay Lohan\n",
      "Here's its 0 labeled counterpart #0: \n",
      "\t ['Is any baby really a freak.', 'Is any baby really a freak?', 'Is Any Baby really strange?', 'Is anyone really that crazy?']\n",
      "----------------------------------------------------------------------\n",
      "Record #616 classified as 1, when actual label is 0: \n",
      "\t ..... ONLY A GUY WOULD DO THIS.\n",
      "Here's its 0 labeled counterpart #0: \n",
      "\t ['Is any baby really a freak.', 'Is any baby really a freak?', 'Is Any Baby really strange?', 'Is anyone really that crazy?']\n",
      "----------------------------------------------------------------------\n",
      "Record #624 classified as 1, when actual label is 0: \n",
      "\t On a Picnic We Will Go\n",
      "Here's its 0 labeled counterpart #0: \n",
      "\t ['Is any baby really a freak.', 'Is any baby really a freak?', 'Is Any Baby really strange?', 'Is anyone really that crazy?']\n",
      "----------------------------------------------------------------------\n",
      "Record #646 classified as 1, when actual label is 0: \n",
      "\t he got so scared he jumped and had a heart attack.\n",
      "Here's its 0 labeled counterpart #0: \n",
      "\t ['Is any baby really a freak.', 'Is any baby really a freak?', 'Is Any Baby really strange?', 'Is anyone really that crazy?']\n",
      "----------------------------------------------------------------------\n",
      "Record #648 classified as 1, when actual label is 0: \n",
      "\t I LIKE THAT SHE'S FUNNY BUT THEY MAKE HER A LITTLE HO-ISH AND SHE'S A MOOCHER.\n",
      "Here's its 0 labeled counterpart #0: \n",
      "\t ['Is any baby really a freak.', 'Is any baby really a freak?', 'Is Any Baby really strange?', 'Is anyone really that crazy?']\n",
      "----------------------------------------------------------------------\n",
      "Record #659 classified as 1, when actual label is 0: \n",
      "\t Still trying to pick myself off the floor.\n",
      "Here's its 0 labeled counterpart #0: \n",
      "\t ['Is any baby really a freak.', 'Is any baby really a freak?', 'Is Any Baby really strange?', 'Is anyone really that crazy?']\n",
      "----------------------------------------------------------------------\n",
      "Record #671 classified as 1, when actual label is 0: \n",
      "\t he took a nice catholic girl and turned her into a scientology freak, katie holmes is EXTREMELY naive !\n",
      "Here's its 0 labeled counterpart #0: \n",
      "\t ['Is any baby really a freak.', 'Is any baby really a freak?', 'Is Any Baby really strange?', 'Is anyone really that crazy?']\n",
      "----------------------------------------------------------------------\n",
      "Record #686 classified as 1, when actual label is 0: \n",
      "\t No but I know a guy.\n",
      "Here's its 0 labeled counterpart #0: \n",
      "\t ['Is any baby really a freak.', 'Is any baby really a freak?', 'Is Any Baby really strange?', 'Is anyone really that crazy?']\n",
      "----------------------------------------------------------------------\n",
      "Record #688 classified as 1, when actual label is 0: \n",
      "\t Its all about FEARFACTOR baby lol.\n",
      "Here's its 0 labeled counterpart #0: \n",
      "\t ['Is any baby really a freak.', 'Is any baby really a freak?', 'Is Any Baby really strange?', 'Is anyone really that crazy?']\n",
      "----------------------------------------------------------------------\n",
      "Record #697 classified as 1, when actual label is 0: \n",
      "\t he wanted to eat the mouse\n",
      "Here's its 0 labeled counterpart #0: \n",
      "\t ['Is any baby really a freak.', 'Is any baby really a freak?', 'Is Any Baby really strange?', 'Is anyone really that crazy?']\n",
      "----------------------------------------------------------------------\n",
      "Record #700 classified as 1, when actual label is 0: \n",
      "\t of course you should keep the baby its your fault you wanted to play but now you gotta pay.\n",
      "Here's its 0 labeled counterpart #0: \n",
      "\t ['Is any baby really a freak.', 'Is any baby really a freak?', 'Is Any Baby really strange?', 'Is anyone really that crazy?']\n",
      "----------------------------------------------------------------------\n",
      "Record #701 classified as 1, when actual label is 0: \n",
      "\t and if floyd could do it im sure the beatles could yoko or no yoko.\n",
      "Here's its 0 labeled counterpart #0: \n",
      "\t ['Is any baby really a freak.', 'Is any baby really a freak?', 'Is Any Baby really strange?', 'Is anyone really that crazy?']\n",
      "----------------------------------------------------------------------\n",
      "Record #703 classified as 1, when actual label is 0: \n",
      "\t Tell them the phone bill and rent are due!\n",
      "Here's its 0 labeled counterpart #0: \n",
      "\t ['Is any baby really a freak.', 'Is any baby really a freak?', 'Is Any Baby really strange?', 'Is anyone really that crazy?']\n",
      "----------------------------------------------------------------------\n",
      "Record #704 classified as 1, when actual label is 0: \n",
      "\t crap they have turned into long jokes  What has seven arms and sucks???\n",
      "Here's its 0 labeled counterpart #0: \n",
      "\t ['Is any baby really a freak.', 'Is any baby really a freak?', 'Is Any Baby really strange?', 'Is anyone really that crazy?']\n",
      "----------------------------------------------------------------------\n",
      "Record #707 classified as 1, when actual label is 0: \n",
      "\t He better not let her go.\n",
      "Here's its 0 labeled counterpart #0: \n",
      "\t ['Is any baby really a freak.', 'Is any baby really a freak?', 'Is Any Baby really strange?', 'Is anyone really that crazy?']\n",
      "----------------------------------------------------------------------\n",
      "Record #710 classified as 1, when actual label is 0: \n",
      "\t juss buy the god darn soundtrack!!!!!!!!!\n",
      "Here's its 0 labeled counterpart #0: \n",
      "\t ['Is any baby really a freak.', 'Is any baby really a freak?', 'Is Any Baby really strange?', 'Is anyone really that crazy?']\n",
      "----------------------------------------------------------------------\n",
      "Record #711 classified as 1, when actual label is 0: \n",
      "\t Plus, she needs to get a damn job!\n",
      "Here's its 0 labeled counterpart #0: \n",
      "\t ['Is any baby really a freak.', 'Is any baby really a freak?', 'Is Any Baby really strange?', 'Is anyone really that crazy?']\n",
      "----------------------------------------------------------------------\n",
      "Record #712 classified as 1, when actual label is 0: \n",
      "\t So if theres anyone out there that completely inderstood the movie, can u pleeease fill me in on it???\n",
      "Here's its 0 labeled counterpart #0: \n",
      "\t ['Is any baby really a freak.', 'Is any baby really a freak?', 'Is Any Baby really strange?', 'Is anyone really that crazy?']\n",
      "----------------------------------------------------------------------\n",
      "Record #725 classified as 1, when actual label is 0: \n",
      "\t I liked Rudy when she was little and Theo when he was in high school!\n",
      "Here's its 0 labeled counterpart #0: \n",
      "\t ['Is any baby really a freak.', 'Is any baby really a freak?', 'Is Any Baby really strange?', 'Is anyone really that crazy?']\n",
      "----------------------------------------------------------------------\n",
      "Record #739 classified as 1, when actual label is 0: \n",
      "\t Are you talking MPH are RPM????\n",
      "Here's its 0 labeled counterpart #0: \n",
      "\t ['Is any baby really a freak.', 'Is any baby really a freak?', 'Is Any Baby really strange?', 'Is anyone really that crazy?']\n",
      "----------------------------------------------------------------------\n",
      "Record #743 classified as 1, when actual label is 0: \n",
      "\t Forget it, you wouldn't understand, well at least I still have my Peggy Sue... Peggy Sue?\n",
      "Here's its 0 labeled counterpart #0: \n",
      "\t ['Is any baby really a freak.', 'Is any baby really a freak?', 'Is Any Baby really strange?', 'Is anyone really that crazy?']\n",
      "----------------------------------------------------------------------\n",
      "Record #761 classified as 1, when actual label is 0: \n",
      "\t WHAT WERE YOU AND DAD DOING?\n",
      "Here's its 0 labeled counterpart #0: \n",
      "\t ['Is any baby really a freak.', 'Is any baby really a freak?', 'Is Any Baby really strange?', 'Is anyone really that crazy?']\n",
      "----------------------------------------------------------------------\n",
      "Record #789 classified as 1, when actual label is 0: \n",
      "\t WHAT WERE YOU AND DAD DOING?\n",
      "Here's its 0 labeled counterpart #0: \n",
      "\t ['Is any baby really a freak.', 'Is any baby really a freak?', 'Is Any Baby really strange?', 'Is anyone really that crazy?']\n",
      "----------------------------------------------------------------------\n",
      "Record #796 classified as 1, when actual label is 0: \n",
      "\t i don't wanna brag or nothing, but i fu**ing rock!\n",
      "Here's its 0 labeled counterpart #0: \n",
      "\t ['Is any baby really a freak.', 'Is any baby really a freak?', 'Is Any Baby really strange?', 'Is anyone really that crazy?']\n",
      "----------------------------------------------------------------------\n",
      "Record #798 classified as 1, when actual label is 0: \n",
      "\t I pick angelina jolie on this one~ even though it is awful that she stole brad from jennifer!\n",
      "Here's its 0 labeled counterpart #0: \n",
      "\t ['Is any baby really a freak.', 'Is any baby really a freak?', 'Is Any Baby really strange?', 'Is anyone really that crazy?']\n",
      "----------------------------------------------------------------------\n"
     ]
    }
   ],
   "source": [
    "print(highlight_classification_errors(df, kind=\"fp\", n=50))"
   ]
  },
  {
   "cell_type": "code",
   "execution_count": 28,
   "metadata": {
    "colab": {
     "base_uri": "https://localhost:8080/"
    },
    "id": "GEU4ZIF65Eyu",
    "outputId": "6aaff515-fe1e-47ca-e7c7-fe14ee044ccf"
   },
   "outputs": [
    {
     "name": "stdout",
     "output_type": "stream",
     "text": [
      "Record #5 classified as 1, when actual label is 0: \n",
      "\t My ex of 3 years cheated.\n",
      "Here's its 0 labeled counterpart #32: \n",
      "\t No seriously, think about howmany cocky girls are out there.\n",
      "----------------------------------------------------------------------\n",
      "Record #79 classified as 1, when actual label is 0: \n",
      "\t And I hope to God it doesn't ever pass!\n",
      "Here's its 0 labeled counterpart #32: \n",
      "\t No seriously, think about howmany cocky girls are out there.\n",
      "----------------------------------------------------------------------\n",
      "Record #101 classified as 1, when actual label is 0: \n",
      "\t Maybe your young, I don't know.\n",
      "Here's its 0 labeled counterpart #32: \n",
      "\t No seriously, think about howmany cocky girls are out there.\n",
      "----------------------------------------------------------------------\n",
      "Record #103 classified as 1, when actual label is 0: \n",
      "\t aint nothing in the world like a big boned gurl!\n",
      "Here's its 0 labeled counterpart #32: \n",
      "\t No seriously, think about howmany cocky girls are out there.\n",
      "----------------------------------------------------------------------\n",
      "Record #176 classified as 1, when actual label is 0: \n",
      "\t We got married all over again!\n",
      "Here's its 0 labeled counterpart #32: \n",
      "\t No seriously, think about howmany cocky girls are out there.\n",
      "----------------------------------------------------------------------\n",
      "Record #190 classified as 1, when actual label is 0: \n",
      "\t At least thats what it seems like to me.\n",
      "Here's its 0 labeled counterpart #32: \n",
      "\t No seriously, think about howmany cocky girls are out there.\n",
      "----------------------------------------------------------------------\n",
      "Record #194 classified as 1, when actual label is 0: \n",
      "\t choose the one that adores you the most!\n",
      "Here's its 0 labeled counterpart #32: \n",
      "\t No seriously, think about howmany cocky girls are out there.\n",
      "----------------------------------------------------------------------\n",
      "Record #219 classified as 1, when actual label is 0: \n",
      "\t Depends, some days I want to have sex, somedays I don't.\n",
      "Here's its 0 labeled counterpart #32: \n",
      "\t No seriously, think about howmany cocky girls are out there.\n",
      "----------------------------------------------------------------------\n",
      "Record #252 classified as 1, when actual label is 0: \n",
      "\t but ur first kiss should feel like ur in hevan.\n",
      "Here's its 0 labeled counterpart #32: \n",
      "\t No seriously, think about howmany cocky girls are out there.\n",
      "----------------------------------------------------------------------\n",
      "Record #262 classified as 1, when actual label is 0: \n",
      "\t rather than just sit there and wait till u are a good one.\n",
      "Here's its 0 labeled counterpart #32: \n",
      "\t No seriously, think about howmany cocky girls are out there.\n",
      "----------------------------------------------------------------------\n",
      "Record #282 classified as 1, when actual label is 0: \n",
      "\t start the day off with breakfast out...then perhaps a nice walk.\n",
      "Here's its 0 labeled counterpart #32: \n",
      "\t No seriously, think about howmany cocky girls are out there.\n",
      "----------------------------------------------------------------------\n",
      "Record #289 classified as 1, when actual label is 0: \n",
      "\t Or you could tell her and have one of those fairy tale romances...\n",
      "Here's its 0 labeled counterpart #32: \n",
      "\t No seriously, think about howmany cocky girls are out there.\n",
      "----------------------------------------------------------------------\n",
      "Record #314 classified as 1, when actual label is 0: \n",
      "\t Now me, I wouldn't marry any women who didn't want to change her name, but that is just me.\n",
      "Here's its 0 labeled counterpart #32: \n",
      "\t No seriously, think about howmany cocky girls are out there.\n",
      "----------------------------------------------------------------------\n",
      "Record #318 classified as 1, when actual label is 0: \n",
      "\t But you do what you want.\n",
      "Here's its 0 labeled counterpart #32: \n",
      "\t No seriously, think about howmany cocky girls are out there.\n",
      "----------------------------------------------------------------------\n",
      "Record #331 classified as 1, when actual label is 0: \n",
      "\t Be strong, and hang in there.\n",
      "Here's its 0 labeled counterpart #32: \n",
      "\t No seriously, think about howmany cocky girls are out there.\n",
      "----------------------------------------------------------------------\n",
      "Record #339 classified as 1, when actual label is 0: \n",
      "\t plus it takes the pressure off of me to ask someone...\n",
      "Here's its 0 labeled counterpart #32: \n",
      "\t No seriously, think about howmany cocky girls are out there.\n",
      "----------------------------------------------------------------------\n",
      "Record #371 classified as 1, when actual label is 0: \n",
      "\t SEPERATE THE BAD THING AND MOVE ON!\n",
      "Here's its 0 labeled counterpart #32: \n",
      "\t No seriously, think about howmany cocky girls are out there.\n",
      "----------------------------------------------------------------------\n",
      "Record #379 classified as 1, when actual label is 0: \n",
      "\t As everyone said... dont get married so early.\n",
      "Here's its 0 labeled counterpart #32: \n",
      "\t No seriously, think about howmany cocky girls are out there.\n",
      "----------------------------------------------------------------------\n",
      "Record #387 classified as 1, when actual label is 0: \n",
      "\t Or do guys really do prefer bigger women?\n",
      "Here's its 0 labeled counterpart #32: \n",
      "\t No seriously, think about howmany cocky girls are out there.\n",
      "----------------------------------------------------------------------\n",
      "Record #452 classified as 1, when actual label is 0: \n",
      "\t after a while you dont even see the color.\n",
      "Here's its 0 labeled counterpart #32: \n",
      "\t No seriously, think about howmany cocky girls are out there.\n",
      "----------------------------------------------------------------------\n",
      "Record #453 classified as 1, when actual label is 0: \n",
      "\t :) I haven't tried it yet, but I am still trying to get up the nerve....\n",
      "Here's its 0 labeled counterpart #32: \n",
      "\t No seriously, think about howmany cocky girls are out there.\n",
      "----------------------------------------------------------------------\n",
      "Record #509 classified as 1, when actual label is 0: \n",
      "\t Imgaine if it was JUST considered love??\n",
      "Here's its 0 labeled counterpart #32: \n",
      "\t No seriously, think about howmany cocky girls are out there.\n",
      "----------------------------------------------------------------------\n",
      "Record #597 classified as 1, when actual label is 0: \n",
      "\t So thats why I ask why dont guyz ever know what they want with any kinda relationship!?!?!\n",
      "Here's its 0 labeled counterpart #32: \n",
      "\t No seriously, think about howmany cocky girls are out there.\n",
      "----------------------------------------------------------------------\n",
      "Record #599 classified as 1, when actual label is 0: \n",
      "\t Girls don't like guys who is all about themselves.\n",
      "Here's its 0 labeled counterpart #32: \n",
      "\t No seriously, think about howmany cocky girls are out there.\n",
      "----------------------------------------------------------------------\n",
      "Record #632 classified as 1, when actual label is 0: \n",
      "\t YOU NEVER LET A MAN  MISTREAT YOU\n",
      "Here's its 0 labeled counterpart #32: \n",
      "\t No seriously, think about howmany cocky girls are out there.\n",
      "----------------------------------------------------------------------\n",
      "Record #658 classified as 1, when actual label is 0: \n",
      "\t how do i get he to stop nagging me and leave me alone.\n",
      "Here's its 0 labeled counterpart #32: \n",
      "\t No seriously, think about howmany cocky girls are out there.\n",
      "----------------------------------------------------------------------\n",
      "Record #669 classified as 1, when actual label is 0: \n",
      "\t good god how old are you ?\n",
      "Here's its 0 labeled counterpart #32: \n",
      "\t No seriously, think about howmany cocky girls are out there.\n",
      "----------------------------------------------------------------------\n",
      "Record #671 classified as 1, when actual label is 0: \n",
      "\t Okay well first thing it sounds as if YOU GUYS ARE ALREADY MARRIED!.\n",
      "Here's its 0 labeled counterpart #32: \n",
      "\t No seriously, think about howmany cocky girls are out there.\n",
      "----------------------------------------------------------------------\n",
      "Record #678 classified as 1, when actual label is 0: \n",
      "\t So its natural with that guy.\n",
      "Here's its 0 labeled counterpart #32: \n",
      "\t No seriously, think about howmany cocky girls are out there.\n",
      "----------------------------------------------------------------------\n",
      "Record #687 classified as 1, when actual label is 0: \n",
      "\t becuz if you do then your gonna lose your friend over a guy!!!!\n",
      "Here's its 0 labeled counterpart #32: \n",
      "\t No seriously, think about howmany cocky girls are out there.\n",
      "----------------------------------------------------------------------\n",
      "Record #692 classified as 1, when actual label is 0: \n",
      "\t )women are curious about sex with other women, even me!\n",
      "Here's its 0 labeled counterpart #32: \n",
      "\t No seriously, think about howmany cocky girls are out there.\n",
      "----------------------------------------------------------------------\n",
      "Record #709 classified as 1, when actual label is 0: \n",
      "\t just move on with your life and frind some one eles!\n",
      "Here's its 0 labeled counterpart #32: \n",
      "\t No seriously, think about howmany cocky girls are out there.\n",
      "----------------------------------------------------------------------\n",
      "Record #711 classified as 1, when actual label is 0: \n",
      "\t Me and this boy been going off and on since last year.\n",
      "Here's its 0 labeled counterpart #32: \n",
      "\t No seriously, think about howmany cocky girls are out there.\n",
      "----------------------------------------------------------------------\n",
      "Record #721 classified as 1, when actual label is 0: \n",
      "\t (and now even in devorce im stuck with it !\n",
      "Here's its 0 labeled counterpart #32: \n",
      "\t No seriously, think about howmany cocky girls are out there.\n",
      "----------------------------------------------------------------------\n",
      "Record #766 classified as 1, when actual label is 0: \n",
      "\t Just find one that loves you too.\n",
      "Here's its 0 labeled counterpart #32: \n",
      "\t No seriously, think about howmany cocky girls are out there.\n",
      "----------------------------------------------------------------------\n",
      "Record #781 classified as 1, when actual label is 0: \n",
      "\t Death is like a box full of candy corn\n",
      "Here's its 0 labeled counterpart #32: \n",
      "\t No seriously, think about howmany cocky girls are out there.\n",
      "----------------------------------------------------------------------\n",
      "Record #792 classified as 1, when actual label is 0: \n",
      "\t if she is calling just to bablle then tell her to not call you so often!\n",
      "Here's its 0 labeled counterpart #32: \n",
      "\t No seriously, think about howmany cocky girls are out there.\n",
      "----------------------------------------------------------------------\n",
      "Record #808 classified as 1, when actual label is 0: \n",
      "\t ..... You tell her why you like her!\n",
      "Here's its 0 labeled counterpart #32: \n",
      "\t No seriously, think about howmany cocky girls are out there.\n",
      "----------------------------------------------------------------------\n",
      "Record #820 classified as 1, when actual label is 0: \n",
      "\t i don't know what u mean.\n",
      "Here's its 0 labeled counterpart #32: \n",
      "\t No seriously, think about howmany cocky girls are out there.\n",
      "----------------------------------------------------------------------\n",
      "Record #821 classified as 1, when actual label is 0: \n",
      "\t If you want kids, then homemaker.\n",
      "Here's its 0 labeled counterpart #32: \n",
      "\t No seriously, think about howmany cocky girls are out there.\n",
      "----------------------------------------------------------------------\n",
      "Record #823 classified as 1, when actual label is 0: \n",
      "\t Intellect - a chick with brains is just sexy!\n",
      "Here's its 0 labeled counterpart #32: \n",
      "\t No seriously, think about howmany cocky girls are out there.\n",
      "----------------------------------------------------------------------\n",
      "Record #824 classified as 1, when actual label is 0: \n",
      "\t his/her intelligence,the way they carry themselves,good looks and activeness\n",
      "Here's its 0 labeled counterpart #32: \n",
      "\t No seriously, think about howmany cocky girls are out there.\n",
      "----------------------------------------------------------------------\n",
      "Record #831 classified as 1, when actual label is 0: \n",
      "\t find someone u like and say will u be my valentine!\n",
      "Here's its 0 labeled counterpart #32: \n",
      "\t No seriously, think about howmany cocky girls are out there.\n",
      "----------------------------------------------------------------------\n",
      "Record #832 classified as 1, when actual label is 0: \n",
      "\t Post more questions on Yahoo Answers!\n",
      "Here's its 0 labeled counterpart #32: \n",
      "\t No seriously, think about howmany cocky girls are out there.\n",
      "----------------------------------------------------------------------\n",
      "Record #833 classified as 1, when actual label is 0: \n",
      "\t Well,if the one boy picks on you, why like him?\n",
      "Here's its 0 labeled counterpart #32: \n",
      "\t No seriously, think about howmany cocky girls are out there.\n",
      "----------------------------------------------------------------------\n",
      "Record #838 classified as 1, when actual label is 0: \n",
      "\t you like him or you don't like him?\n",
      "Here's its 0 labeled counterpart #32: \n",
      "\t No seriously, think about howmany cocky girls are out there.\n",
      "----------------------------------------------------------------------\n",
      "Record #867 classified as 1, when actual label is 0: \n",
      "\t I like natural / real girls, I don't like fake looking prissy drama queens.\n",
      "Here's its 0 labeled counterpart #32: \n",
      "\t No seriously, think about howmany cocky girls are out there.\n",
      "----------------------------------------------------------------------\n",
      "Record #884 classified as 1, when actual label is 0: \n",
      "\t Good luck but DO YOUR HOMEWORK!\n",
      "Here's its 0 labeled counterpart #32: \n",
      "\t No seriously, think about howmany cocky girls are out there.\n",
      "----------------------------------------------------------------------\n",
      "Record #888 classified as 1, when actual label is 0: \n",
      "\t But I need to be happy.\n",
      "Here's its 0 labeled counterpart #32: \n",
      "\t No seriously, think about howmany cocky girls are out there.\n",
      "----------------------------------------------------------------------\n",
      "Record #894 classified as 1, when actual label is 0: \n",
      "\t Why tie yourself to just one guy?\n",
      "Here's its 0 labeled counterpart #32: \n",
      "\t No seriously, think about howmany cocky girls are out there.\n",
      "----------------------------------------------------------------------\n"
     ]
    }
   ],
   "source": [
    "print(highlight_classification_errors(df_fr, kind=\"fp\", n=50))"
   ]
  },
  {
   "cell_type": "code",
   "execution_count": 37,
   "metadata": {
    "id": "oaqbV8-Ak5yO"
   },
   "outputs": [],
   "source": [
    "styled_cm_fr = highlight_classification_errors(df_fr, kind=\"fp\", n=50)"
   ]
  },
  {
   "cell_type": "code",
   "execution_count": 14,
   "metadata": {
    "colab": {
     "base_uri": "https://localhost:8080/",
     "height": 143
    },
    "id": "5pdCH_uEOxVX",
    "outputId": "2c1ce945-d313-4900-bad2-b61ee5e51516"
   },
   "outputs": [
    {
     "data": {
      "text/html": [
       "<style type=\"text/css\">\n",
       "</style>\n",
       "<table id=\"T_ef4cb_\" class=\"dataframe\">\n",
       "  <thead>\n",
       "    <tr>\n",
       "      <th class=\"index_name level0\" >pred_label</th>\n",
       "      <th class=\"col_heading level0 col0\" >0</th>\n",
       "      <th class=\"col_heading level0 col1\" >1</th>\n",
       "    </tr>\n",
       "    <tr>\n",
       "      <th class=\"index_name level0\" >true_label</th>\n",
       "      <th class=\"blank col0\" >&nbsp;</th>\n",
       "      <th class=\"blank col1\" >&nbsp;</th>\n",
       "    </tr>\n",
       "  </thead>\n",
       "  <tbody>\n",
       "    <tr>\n",
       "      <th id=\"T_ef4cb_level0_row0\" class=\"row_heading level0 row0\" >0</th>\n",
       "      <td id=\"T_ef4cb_row0_col0\" class=\"data row0 col0\" >72</td>\n",
       "      <td id=\"T_ef4cb_row0_col1\" class=\"data row0 col1\" >86</td>\n",
       "    </tr>\n",
       "    <tr>\n",
       "      <th id=\"T_ef4cb_level0_row1\" class=\"row_heading level0 row1\" >1</th>\n",
       "      <td id=\"T_ef4cb_row1_col0\" class=\"data row1 col0\" >209</td>\n",
       "      <td id=\"T_ef4cb_row1_col1\" class=\"data row1 col1\" >1049</td>\n",
       "    </tr>\n",
       "  </tbody>\n",
       "</table>\n"
      ],
      "text/plain": [
       "<pandas.io.formats.style.Styler at 0x7f68c1a45700>"
      ]
     },
     "execution_count": 14,
     "metadata": {},
     "output_type": "execute_result"
    }
   ],
   "source": [
    "styled_cm"
   ]
  },
  {
   "cell_type": "code",
   "execution_count": 38,
   "metadata": {
    "colab": {
     "base_uri": "https://localhost:8080/",
     "height": 143
    },
    "id": "nE80IaESk-Ax",
    "outputId": "6bc2501a-94bf-4da1-8b93-abc2f875ec14"
   },
   "outputs": [
    {
     "data": {
      "text/html": [
       "<style type=\"text/css\">\n",
       "</style>\n",
       "<table id=\"T_2ecac_\" class=\"dataframe\">\n",
       "  <thead>\n",
       "    <tr>\n",
       "      <th class=\"index_name level0\" >pred_label</th>\n",
       "      <th class=\"col_heading level0 col0\" >0</th>\n",
       "      <th class=\"col_heading level0 col1\" >1</th>\n",
       "    </tr>\n",
       "    <tr>\n",
       "      <th class=\"index_name level0\" >true_label</th>\n",
       "      <th class=\"blank col0\" >&nbsp;</th>\n",
       "      <th class=\"blank col1\" >&nbsp;</th>\n",
       "    </tr>\n",
       "  </thead>\n",
       "  <tbody>\n",
       "    <tr>\n",
       "      <th id=\"T_2ecac_level0_row0\" class=\"row_heading level0 row0\" >0</th>\n",
       "      <td id=\"T_2ecac_row0_col0\" class=\"data row0 col0\" >58</td>\n",
       "      <td id=\"T_2ecac_row0_col1\" class=\"data row0 col1\" >74</td>\n",
       "    </tr>\n",
       "    <tr>\n",
       "      <th id=\"T_2ecac_level0_row1\" class=\"row_heading level0 row1\" >1</th>\n",
       "      <td id=\"T_2ecac_row1_col0\" class=\"data row1 col0\" >171</td>\n",
       "      <td id=\"T_2ecac_row1_col1\" class=\"data row1 col1\" >1029</td>\n",
       "    </tr>\n",
       "  </tbody>\n",
       "</table>\n"
      ],
      "text/plain": [
       "<pandas.io.formats.style.Styler at 0x7f68c023cb80>"
      ]
     },
     "execution_count": 38,
     "metadata": {},
     "output_type": "execute_result"
    }
   ],
   "source": [
    "styled_cm_fr"
   ]
  }
 ],
 "metadata": {
  "colab": {
   "provenance": []
  },
  "kernelspec": {
   "display_name": "Python 3 (ipykernel)",
   "language": "python",
   "name": "python3"
  },
  "language_info": {
   "codemirror_mode": {
    "name": "ipython",
    "version": 3
   },
   "file_extension": ".py",
   "mimetype": "text/x-python",
   "name": "python",
   "nbconvert_exporter": "python",
   "pygments_lexer": "ipython3",
   "version": "3.9.7"
  }
 },
 "nbformat": 4,
 "nbformat_minor": 1
}
